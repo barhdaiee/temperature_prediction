{
 "cells": [
  {
   "cell_type": "markdown",
   "id": "e29fe656",
   "metadata": {},
   "source": [
    "# TEMPERATURE PREDICTION WITH MACHINE LEARNING"
   ]
  },
  {
   "cell_type": "markdown",
   "id": "06485fa8",
   "metadata": {},
   "source": [
    "This project is focused on importing data on weather from a particular location with the aim of predicting the weather in the future. Only five columns were identified to be necessary and this was filled and cleaned up before feeding it into the machine learning algorithm. The outcome shows that it is more likely to rain than to snow in Oakland International Airport, USA."
   ]
  },
  {
   "cell_type": "code",
   "execution_count": 1,
   "id": "705643f9",
   "metadata": {},
   "outputs": [],
   "source": [
    "import pandas as pd"
   ]
  },
  {
   "cell_type": "code",
   "execution_count": 2,
   "id": "5b661a04",
   "metadata": {},
   "outputs": [],
   "source": [
    "#using the unique date column as index\n",
    "weather = pd.read_csv(\"local_weather.csv\", index_col = \"DATE\")"
   ]
  },
  {
   "cell_type": "code",
   "execution_count": 3,
   "id": "18e925c3",
   "metadata": {},
   "outputs": [
    {
     "data": {
      "text/plain": [
       "(17191, 35)"
      ]
     },
     "execution_count": 3,
     "metadata": {},
     "output_type": "execute_result"
    }
   ],
   "source": [
    "# Count the total number of rows and columns\n",
    "weather.shape\n",
    "\n",
    "#len(weather.columns)"
   ]
  },
  {
   "cell_type": "code",
   "execution_count": 4,
   "id": "c03619d6",
   "metadata": {},
   "outputs": [
    {
     "data": {
      "text/html": [
       "<div>\n",
       "<style scoped>\n",
       "    .dataframe tbody tr th:only-of-type {\n",
       "        vertical-align: middle;\n",
       "    }\n",
       "\n",
       "    .dataframe tbody tr th {\n",
       "        vertical-align: top;\n",
       "    }\n",
       "\n",
       "    .dataframe thead th {\n",
       "        text-align: right;\n",
       "    }\n",
       "</style>\n",
       "<table border=\"1\" class=\"dataframe\">\n",
       "  <thead>\n",
       "    <tr style=\"text-align: right;\">\n",
       "      <th></th>\n",
       "      <th>STATION</th>\n",
       "      <th>NAME</th>\n",
       "      <th>ACMH</th>\n",
       "      <th>ACSH</th>\n",
       "      <th>AWND</th>\n",
       "      <th>DAPR</th>\n",
       "      <th>FMTM</th>\n",
       "      <th>FRGT</th>\n",
       "      <th>MDPR</th>\n",
       "      <th>PGTM</th>\n",
       "      <th>...</th>\n",
       "      <th>WT01</th>\n",
       "      <th>WT02</th>\n",
       "      <th>WT03</th>\n",
       "      <th>WT04</th>\n",
       "      <th>WT05</th>\n",
       "      <th>WT07</th>\n",
       "      <th>WT08</th>\n",
       "      <th>WT09</th>\n",
       "      <th>WT16</th>\n",
       "      <th>WT18</th>\n",
       "    </tr>\n",
       "    <tr>\n",
       "      <th>DATE</th>\n",
       "      <th></th>\n",
       "      <th></th>\n",
       "      <th></th>\n",
       "      <th></th>\n",
       "      <th></th>\n",
       "      <th></th>\n",
       "      <th></th>\n",
       "      <th></th>\n",
       "      <th></th>\n",
       "      <th></th>\n",
       "      <th></th>\n",
       "      <th></th>\n",
       "      <th></th>\n",
       "      <th></th>\n",
       "      <th></th>\n",
       "      <th></th>\n",
       "      <th></th>\n",
       "      <th></th>\n",
       "      <th></th>\n",
       "      <th></th>\n",
       "      <th></th>\n",
       "    </tr>\n",
       "  </thead>\n",
       "  <tbody>\n",
       "    <tr>\n",
       "      <th>1960-01-01</th>\n",
       "      <td>USW00023230</td>\n",
       "      <td>OAKLAND INTERNATIONAL AIRPORT, CA US</td>\n",
       "      <td>NaN</td>\n",
       "      <td>NaN</td>\n",
       "      <td>NaN</td>\n",
       "      <td>NaN</td>\n",
       "      <td>NaN</td>\n",
       "      <td>NaN</td>\n",
       "      <td>NaN</td>\n",
       "      <td>NaN</td>\n",
       "      <td>...</td>\n",
       "      <td>NaN</td>\n",
       "      <td>NaN</td>\n",
       "      <td>NaN</td>\n",
       "      <td>NaN</td>\n",
       "      <td>NaN</td>\n",
       "      <td>NaN</td>\n",
       "      <td>NaN</td>\n",
       "      <td>NaN</td>\n",
       "      <td>NaN</td>\n",
       "      <td>NaN</td>\n",
       "    </tr>\n",
       "    <tr>\n",
       "      <th>1960-01-02</th>\n",
       "      <td>USW00023230</td>\n",
       "      <td>OAKLAND INTERNATIONAL AIRPORT, CA US</td>\n",
       "      <td>NaN</td>\n",
       "      <td>NaN</td>\n",
       "      <td>NaN</td>\n",
       "      <td>NaN</td>\n",
       "      <td>NaN</td>\n",
       "      <td>NaN</td>\n",
       "      <td>NaN</td>\n",
       "      <td>NaN</td>\n",
       "      <td>...</td>\n",
       "      <td>NaN</td>\n",
       "      <td>NaN</td>\n",
       "      <td>NaN</td>\n",
       "      <td>NaN</td>\n",
       "      <td>NaN</td>\n",
       "      <td>NaN</td>\n",
       "      <td>NaN</td>\n",
       "      <td>NaN</td>\n",
       "      <td>1.0</td>\n",
       "      <td>NaN</td>\n",
       "    </tr>\n",
       "    <tr>\n",
       "      <th>1960-01-03</th>\n",
       "      <td>USW00023230</td>\n",
       "      <td>OAKLAND INTERNATIONAL AIRPORT, CA US</td>\n",
       "      <td>NaN</td>\n",
       "      <td>NaN</td>\n",
       "      <td>NaN</td>\n",
       "      <td>NaN</td>\n",
       "      <td>NaN</td>\n",
       "      <td>NaN</td>\n",
       "      <td>NaN</td>\n",
       "      <td>NaN</td>\n",
       "      <td>...</td>\n",
       "      <td>NaN</td>\n",
       "      <td>NaN</td>\n",
       "      <td>NaN</td>\n",
       "      <td>NaN</td>\n",
       "      <td>NaN</td>\n",
       "      <td>NaN</td>\n",
       "      <td>NaN</td>\n",
       "      <td>NaN</td>\n",
       "      <td>NaN</td>\n",
       "      <td>NaN</td>\n",
       "    </tr>\n",
       "    <tr>\n",
       "      <th>1960-01-04</th>\n",
       "      <td>USW00023230</td>\n",
       "      <td>OAKLAND INTERNATIONAL AIRPORT, CA US</td>\n",
       "      <td>NaN</td>\n",
       "      <td>NaN</td>\n",
       "      <td>NaN</td>\n",
       "      <td>NaN</td>\n",
       "      <td>NaN</td>\n",
       "      <td>NaN</td>\n",
       "      <td>NaN</td>\n",
       "      <td>NaN</td>\n",
       "      <td>...</td>\n",
       "      <td>NaN</td>\n",
       "      <td>NaN</td>\n",
       "      <td>NaN</td>\n",
       "      <td>NaN</td>\n",
       "      <td>NaN</td>\n",
       "      <td>NaN</td>\n",
       "      <td>NaN</td>\n",
       "      <td>NaN</td>\n",
       "      <td>NaN</td>\n",
       "      <td>NaN</td>\n",
       "    </tr>\n",
       "    <tr>\n",
       "      <th>1960-01-05</th>\n",
       "      <td>USW00023230</td>\n",
       "      <td>OAKLAND INTERNATIONAL AIRPORT, CA US</td>\n",
       "      <td>NaN</td>\n",
       "      <td>NaN</td>\n",
       "      <td>NaN</td>\n",
       "      <td>NaN</td>\n",
       "      <td>NaN</td>\n",
       "      <td>NaN</td>\n",
       "      <td>NaN</td>\n",
       "      <td>NaN</td>\n",
       "      <td>...</td>\n",
       "      <td>1.0</td>\n",
       "      <td>NaN</td>\n",
       "      <td>NaN</td>\n",
       "      <td>NaN</td>\n",
       "      <td>NaN</td>\n",
       "      <td>NaN</td>\n",
       "      <td>1.0</td>\n",
       "      <td>NaN</td>\n",
       "      <td>NaN</td>\n",
       "      <td>NaN</td>\n",
       "    </tr>\n",
       "  </tbody>\n",
       "</table>\n",
       "<p>5 rows × 35 columns</p>\n",
       "</div>"
      ],
      "text/plain": [
       "                STATION                                  NAME  ACMH  ACSH  \\\n",
       "DATE                                                                        \n",
       "1960-01-01  USW00023230  OAKLAND INTERNATIONAL AIRPORT, CA US   NaN   NaN   \n",
       "1960-01-02  USW00023230  OAKLAND INTERNATIONAL AIRPORT, CA US   NaN   NaN   \n",
       "1960-01-03  USW00023230  OAKLAND INTERNATIONAL AIRPORT, CA US   NaN   NaN   \n",
       "1960-01-04  USW00023230  OAKLAND INTERNATIONAL AIRPORT, CA US   NaN   NaN   \n",
       "1960-01-05  USW00023230  OAKLAND INTERNATIONAL AIRPORT, CA US   NaN   NaN   \n",
       "\n",
       "            AWND  DAPR  FMTM  FRGT  MDPR  PGTM  ...  WT01  WT02  WT03  WT04  \\\n",
       "DATE                                            ...                           \n",
       "1960-01-01   NaN   NaN   NaN   NaN   NaN   NaN  ...   NaN   NaN   NaN   NaN   \n",
       "1960-01-02   NaN   NaN   NaN   NaN   NaN   NaN  ...   NaN   NaN   NaN   NaN   \n",
       "1960-01-03   NaN   NaN   NaN   NaN   NaN   NaN  ...   NaN   NaN   NaN   NaN   \n",
       "1960-01-04   NaN   NaN   NaN   NaN   NaN   NaN  ...   NaN   NaN   NaN   NaN   \n",
       "1960-01-05   NaN   NaN   NaN   NaN   NaN   NaN  ...   1.0   NaN   NaN   NaN   \n",
       "\n",
       "            WT05  WT07  WT08  WT09  WT16  WT18  \n",
       "DATE                                            \n",
       "1960-01-01   NaN   NaN   NaN   NaN   NaN   NaN  \n",
       "1960-01-02   NaN   NaN   NaN   NaN   1.0   NaN  \n",
       "1960-01-03   NaN   NaN   NaN   NaN   NaN   NaN  \n",
       "1960-01-04   NaN   NaN   NaN   NaN   NaN   NaN  \n",
       "1960-01-05   NaN   NaN   1.0   NaN   NaN   NaN  \n",
       "\n",
       "[5 rows x 35 columns]"
      ]
     },
     "execution_count": 4,
     "metadata": {},
     "output_type": "execute_result"
    }
   ],
   "source": [
    "# Display the first few rows of data\n",
    "weather.head(n = 5)"
   ]
  },
  {
   "cell_type": "code",
   "execution_count": 5,
   "id": "bb5b58f5",
   "metadata": {},
   "outputs": [
    {
     "data": {
      "text/plain": [
       "Index(['STATION', 'NAME', 'ACMH', 'ACSH', 'AWND', 'DAPR', 'FMTM', 'FRGT',\n",
       "       'MDPR', 'PGTM', 'PRCP', 'SNOW', 'SNWD', 'TAVG', 'TMAX', 'TMIN', 'TSUN',\n",
       "       'WDF1', 'WDF2', 'WDF5', 'WDFG', 'WSF1', 'WSF2', 'WSF5', 'WSFG', 'WT01',\n",
       "       'WT02', 'WT03', 'WT04', 'WT05', 'WT07', 'WT08', 'WT09', 'WT16', 'WT18'],\n",
       "      dtype='object')"
      ]
     },
     "execution_count": 5,
     "metadata": {},
     "output_type": "execute_result"
    }
   ],
   "source": [
    "weather.columns"
   ]
  },
  {
   "cell_type": "code",
   "execution_count": 6,
   "id": "90b8b0b6",
   "metadata": {},
   "outputs": [
    {
     "data": {
      "text/plain": [
       "STATION    0.000000\n",
       "NAME       0.000000\n",
       "ACMH       0.660055\n",
       "ACSH       0.660055\n",
       "AWND       0.512303\n",
       "DAPR       0.999535\n",
       "FMTM       0.872608\n",
       "FRGT       0.999884\n",
       "MDPR       0.999535\n",
       "PGTM       0.504857\n",
       "PRCP       0.016346\n",
       "SNOW       0.338026\n",
       "SNWD       0.330813\n",
       "TAVG       0.881508\n",
       "TMAX       0.000640\n",
       "TMIN       0.000814\n",
       "TSUN       0.933046\n",
       "WDF1       0.660055\n",
       "WDF2       0.512245\n",
       "WDF5       0.517364\n",
       "WDFG       0.751789\n",
       "WSF1       0.660055\n",
       "WSF2       0.512187\n",
       "WSF5       0.517364\n",
       "WSFG       0.751789\n",
       "WT01       0.779361\n",
       "WT02       0.980280\n",
       "WT03       0.992961\n",
       "WT04       0.999767\n",
       "WT05       0.998371\n",
       "WT07       0.999884\n",
       "WT08       0.812344\n",
       "WT09       0.999884\n",
       "WT16       0.886278\n",
       "WT18       0.999825\n",
       "dtype: float64"
      ]
     },
     "execution_count": 6,
     "metadata": {},
     "output_type": "execute_result"
    }
   ],
   "source": [
    "# Determine the % of missing values in all columns\n",
    "weather.isna().sum()/weather.shape[0]"
   ]
  },
  {
   "cell_type": "markdown",
   "id": "254e50fd",
   "metadata": {},
   "source": [
    "Most of the columns have over 60% of misssing data which would not give useful information to the analysis, hence, are not needed. The five key columns from the dataset (as confirmed by the documentation) are:\n",
    "    PRCP — total precipitation;\n",
    "    TMAX — maximum daily temperature;\n",
    "    TMIN — minimum daily temperature;\n",
    "    SNOW — the total daily snowfall;\n",
    "    SNWD — total snow depth on the ground."
   ]
  },
  {
   "cell_type": "code",
   "execution_count": 7,
   "id": "6142735a",
   "metadata": {},
   "outputs": [],
   "source": [
    "# Creating a new df with the requisite columns\n",
    "core_weather = weather[[\"PRCP\", \"TMAX\", \"TMIN\", \"SNOW\", \"SNWD\"]].copy()"
   ]
  },
  {
   "cell_type": "code",
   "execution_count": 8,
   "id": "d53387c1",
   "metadata": {},
   "outputs": [
    {
     "data": {
      "text/html": [
       "<div>\n",
       "<style scoped>\n",
       "    .dataframe tbody tr th:only-of-type {\n",
       "        vertical-align: middle;\n",
       "    }\n",
       "\n",
       "    .dataframe tbody tr th {\n",
       "        vertical-align: top;\n",
       "    }\n",
       "\n",
       "    .dataframe thead th {\n",
       "        text-align: right;\n",
       "    }\n",
       "</style>\n",
       "<table border=\"1\" class=\"dataframe\">\n",
       "  <thead>\n",
       "    <tr style=\"text-align: right;\">\n",
       "      <th></th>\n",
       "      <th>PRCP</th>\n",
       "      <th>TMAX</th>\n",
       "      <th>TMIN</th>\n",
       "      <th>SNOW</th>\n",
       "      <th>SNWD</th>\n",
       "    </tr>\n",
       "    <tr>\n",
       "      <th>DATE</th>\n",
       "      <th></th>\n",
       "      <th></th>\n",
       "      <th></th>\n",
       "      <th></th>\n",
       "      <th></th>\n",
       "    </tr>\n",
       "  </thead>\n",
       "  <tbody>\n",
       "    <tr>\n",
       "      <th>1960-01-01</th>\n",
       "      <td>0.0</td>\n",
       "      <td>49.0</td>\n",
       "      <td>30.0</td>\n",
       "      <td>0.0</td>\n",
       "      <td>0.0</td>\n",
       "    </tr>\n",
       "    <tr>\n",
       "      <th>1960-01-02</th>\n",
       "      <td>0.0</td>\n",
       "      <td>49.0</td>\n",
       "      <td>29.0</td>\n",
       "      <td>0.0</td>\n",
       "      <td>0.0</td>\n",
       "    </tr>\n",
       "    <tr>\n",
       "      <th>1960-01-03</th>\n",
       "      <td>0.0</td>\n",
       "      <td>54.0</td>\n",
       "      <td>35.0</td>\n",
       "      <td>0.0</td>\n",
       "      <td>0.0</td>\n",
       "    </tr>\n",
       "    <tr>\n",
       "      <th>1960-01-04</th>\n",
       "      <td>0.0</td>\n",
       "      <td>54.0</td>\n",
       "      <td>36.0</td>\n",
       "      <td>0.0</td>\n",
       "      <td>0.0</td>\n",
       "    </tr>\n",
       "    <tr>\n",
       "      <th>1960-01-05</th>\n",
       "      <td>0.0</td>\n",
       "      <td>55.0</td>\n",
       "      <td>33.0</td>\n",
       "      <td>0.0</td>\n",
       "      <td>0.0</td>\n",
       "    </tr>\n",
       "  </tbody>\n",
       "</table>\n",
       "</div>"
      ],
      "text/plain": [
       "            PRCP  TMAX  TMIN  SNOW  SNWD\n",
       "DATE                                    \n",
       "1960-01-01   0.0  49.0  30.0   0.0   0.0\n",
       "1960-01-02   0.0  49.0  29.0   0.0   0.0\n",
       "1960-01-03   0.0  54.0  35.0   0.0   0.0\n",
       "1960-01-04   0.0  54.0  36.0   0.0   0.0\n",
       "1960-01-05   0.0  55.0  33.0   0.0   0.0"
      ]
     },
     "execution_count": 8,
     "metadata": {},
     "output_type": "execute_result"
    }
   ],
   "source": [
    "core_weather.head()"
   ]
  },
  {
   "cell_type": "code",
   "execution_count": 9,
   "id": "a842b38a",
   "metadata": {},
   "outputs": [],
   "source": [
    "# Rename the columns to make them easier to work with.\n",
    "core_weather.columns = [\"precipitation\",\"max_temp\", \"min_temp\",\"snowfall\", \"snow_depth\"] \n",
    "\n",
    "# or by using\n",
    "# core_weather.rename(columns={\"PRCP\":\"precipitation\", \"TMAX\": \"max_temp\", \"TMIN\":\"min_temp\", \n",
    "#                              \"SNOW\":\"snowfall\", \"SNWD\":\"snow_depth\"}, inplace = True)"
   ]
  },
  {
   "cell_type": "markdown",
   "id": "42ef13d8",
   "metadata": {},
   "source": [
    "## 1.0 Explore and clean data"
   ]
  },
  {
   "cell_type": "code",
   "execution_count": 10,
   "id": "06432ae9",
   "metadata": {},
   "outputs": [
    {
     "data": {
      "text/html": [
       "<div>\n",
       "<style scoped>\n",
       "    .dataframe tbody tr th:only-of-type {\n",
       "        vertical-align: middle;\n",
       "    }\n",
       "\n",
       "    .dataframe tbody tr th {\n",
       "        vertical-align: top;\n",
       "    }\n",
       "\n",
       "    .dataframe thead th {\n",
       "        text-align: right;\n",
       "    }\n",
       "</style>\n",
       "<table border=\"1\" class=\"dataframe\">\n",
       "  <thead>\n",
       "    <tr style=\"text-align: right;\">\n",
       "      <th></th>\n",
       "      <th>precipitation</th>\n",
       "      <th>max_temp</th>\n",
       "      <th>min_temp</th>\n",
       "      <th>snowfall</th>\n",
       "      <th>snow_depth</th>\n",
       "    </tr>\n",
       "  </thead>\n",
       "  <tbody>\n",
       "    <tr>\n",
       "      <th>count</th>\n",
       "      <td>16910.000000</td>\n",
       "      <td>17180.000000</td>\n",
       "      <td>17177.000000</td>\n",
       "      <td>11380.000000</td>\n",
       "      <td>11504.0</td>\n",
       "    </tr>\n",
       "    <tr>\n",
       "      <th>mean</th>\n",
       "      <td>0.047207</td>\n",
       "      <td>65.715774</td>\n",
       "      <td>50.414682</td>\n",
       "      <td>0.000088</td>\n",
       "      <td>0.0</td>\n",
       "    </tr>\n",
       "    <tr>\n",
       "      <th>std</th>\n",
       "      <td>0.185838</td>\n",
       "      <td>8.382181</td>\n",
       "      <td>6.759644</td>\n",
       "      <td>0.009374</td>\n",
       "      <td>0.0</td>\n",
       "    </tr>\n",
       "    <tr>\n",
       "      <th>min</th>\n",
       "      <td>0.000000</td>\n",
       "      <td>38.000000</td>\n",
       "      <td>1.000000</td>\n",
       "      <td>0.000000</td>\n",
       "      <td>0.0</td>\n",
       "    </tr>\n",
       "    <tr>\n",
       "      <th>25%</th>\n",
       "      <td>0.000000</td>\n",
       "      <td>60.000000</td>\n",
       "      <td>46.000000</td>\n",
       "      <td>0.000000</td>\n",
       "      <td>0.0</td>\n",
       "    </tr>\n",
       "    <tr>\n",
       "      <th>50%</th>\n",
       "      <td>0.000000</td>\n",
       "      <td>65.000000</td>\n",
       "      <td>51.000000</td>\n",
       "      <td>0.000000</td>\n",
       "      <td>0.0</td>\n",
       "    </tr>\n",
       "    <tr>\n",
       "      <th>75%</th>\n",
       "      <td>0.000000</td>\n",
       "      <td>71.000000</td>\n",
       "      <td>56.000000</td>\n",
       "      <td>0.000000</td>\n",
       "      <td>0.0</td>\n",
       "    </tr>\n",
       "    <tr>\n",
       "      <th>max</th>\n",
       "      <td>4.530000</td>\n",
       "      <td>122.000000</td>\n",
       "      <td>69.000000</td>\n",
       "      <td>1.000000</td>\n",
       "      <td>0.0</td>\n",
       "    </tr>\n",
       "  </tbody>\n",
       "</table>\n",
       "</div>"
      ],
      "text/plain": [
       "       precipitation      max_temp      min_temp      snowfall  snow_depth\n",
       "count   16910.000000  17180.000000  17177.000000  11380.000000     11504.0\n",
       "mean        0.047207     65.715774     50.414682      0.000088         0.0\n",
       "std         0.185838      8.382181      6.759644      0.009374         0.0\n",
       "min         0.000000     38.000000      1.000000      0.000000         0.0\n",
       "25%         0.000000     60.000000     46.000000      0.000000         0.0\n",
       "50%         0.000000     65.000000     51.000000      0.000000         0.0\n",
       "75%         0.000000     71.000000     56.000000      0.000000         0.0\n",
       "max         4.530000    122.000000     69.000000      1.000000         0.0"
      ]
     },
     "execution_count": 10,
     "metadata": {},
     "output_type": "execute_result"
    }
   ],
   "source": [
    "# Explore statistics of new df\n",
    "core_weather.describe()"
   ]
  },
  {
   "cell_type": "code",
   "execution_count": 11,
   "id": "373b3f27",
   "metadata": {},
   "outputs": [
    {
     "data": {
      "text/plain": [
       "precipitation    0.016346\n",
       "max_temp         0.000640\n",
       "min_temp         0.000814\n",
       "snowfall         0.338026\n",
       "snow_depth       0.330813\n",
       "dtype: float64"
      ]
     },
     "execution_count": 11,
     "metadata": {},
     "output_type": "execute_result"
    }
   ],
   "source": [
    "# Determine the % of missing values in all columns\n",
    "core_weather.isna().sum()/core_weather.shape[0]"
   ]
  },
  {
   "cell_type": "markdown",
   "id": "9f72f818",
   "metadata": {},
   "source": [
    "### Verify data types"
   ]
  },
  {
   "cell_type": "code",
   "execution_count": 12,
   "id": "9d107eaa",
   "metadata": {},
   "outputs": [
    {
     "data": {
      "text/plain": [
       "precipitation    float64\n",
       "max_temp         float64\n",
       "min_temp         float64\n",
       "snowfall         float64\n",
       "snow_depth       float64\n",
       "dtype: object"
      ]
     },
     "execution_count": 12,
     "metadata": {},
     "output_type": "execute_result"
    }
   ],
   "source": [
    "core_weather.dtypes"
   ]
  },
  {
   "cell_type": "code",
   "execution_count": 13,
   "id": "34b93522",
   "metadata": {},
   "outputs": [
    {
     "data": {
      "text/plain": [
       "Index(['1960-01-01', '1960-01-02', '1960-01-03', '1960-01-04', '1960-01-05',\n",
       "       '1960-01-06', '1960-01-07', '1960-01-08', '1960-01-09', '1960-01-10',\n",
       "       ...\n",
       "       '2022-12-16', '2022-12-17', '2022-12-18', '2022-12-19', '2022-12-20',\n",
       "       '2022-12-21', '2022-12-22', '2022-12-23', '2022-12-24', '2022-12-25'],\n",
       "      dtype='object', name='DATE', length=17191)"
      ]
     },
     "execution_count": 13,
     "metadata": {},
     "output_type": "execute_result"
    }
   ],
   "source": [
    "core_weather.index"
   ]
  },
  {
   "cell_type": "markdown",
   "id": "94f4429a",
   "metadata": {},
   "source": [
    "The index are dates, so we need to convert object type to date type. "
   ]
  },
  {
   "cell_type": "code",
   "execution_count": 14,
   "id": "839d38b5",
   "metadata": {},
   "outputs": [],
   "source": [
    "core_weather.index = pd.to_datetime(core_weather.index)"
   ]
  },
  {
   "cell_type": "code",
   "execution_count": 15,
   "id": "0e811c84",
   "metadata": {},
   "outputs": [
    {
     "data": {
      "text/plain": [
       "DatetimeIndex(['1960-01-01', '1960-01-02', '1960-01-03', '1960-01-04',\n",
       "               '1960-01-05', '1960-01-06', '1960-01-07', '1960-01-08',\n",
       "               '1960-01-09', '1960-01-10',\n",
       "               ...\n",
       "               '2022-12-16', '2022-12-17', '2022-12-18', '2022-12-19',\n",
       "               '2022-12-20', '2022-12-21', '2022-12-22', '2022-12-23',\n",
       "               '2022-12-24', '2022-12-25'],\n",
       "              dtype='datetime64[ns]', name='DATE', length=17191, freq=None)"
      ]
     },
     "execution_count": 15,
     "metadata": {},
     "output_type": "execute_result"
    }
   ],
   "source": [
    "core_weather.index"
   ]
  },
  {
   "cell_type": "markdown",
   "id": "89caf01f",
   "metadata": {},
   "source": [
    "### Snowfall and snowdepth columns"
   ]
  },
  {
   "cell_type": "code",
   "execution_count": 16,
   "id": "1d2b01d7",
   "metadata": {},
   "outputs": [
    {
     "data": {
      "text/plain": [
       "0.0    11379\n",
       "1.0        1\n",
       "Name: snowfall, dtype: int64"
      ]
     },
     "execution_count": 16,
     "metadata": {},
     "output_type": "execute_result"
    }
   ],
   "source": [
    "core_weather[\"snowfall\"].value_counts()"
   ]
  },
  {
   "cell_type": "code",
   "execution_count": 17,
   "id": "1b55ec9a",
   "metadata": {},
   "outputs": [
    {
     "data": {
      "text/plain": [
       "0.0    11504\n",
       "Name: snow_depth, dtype: int64"
      ]
     },
     "execution_count": 17,
     "metadata": {},
     "output_type": "execute_result"
    }
   ],
   "source": [
    "core_weather[\"snow_depth\"].value_counts()"
   ]
  },
  {
   "cell_type": "markdown",
   "id": "be50d300",
   "metadata": {},
   "source": [
    "Snowfall has only two values - 0 and 1, of which the latter only occured once. Also, snow_depth only has one value which makes the column not so informative. As a result, we would drop these two columns."
   ]
  },
  {
   "cell_type": "code",
   "execution_count": 18,
   "id": "40029cd9",
   "metadata": {},
   "outputs": [],
   "source": [
    "#core_weather = core_weather.drop(columns = [\"snowfall\",\"snow_depth\"])\n",
    "core_weather = core_weather.drop([\"snowfall\",\"snow_depth\"], axis = 1)"
   ]
  },
  {
   "cell_type": "markdown",
   "id": "0fa8f17d",
   "metadata": {},
   "source": [
    "### Precipitation column"
   ]
  },
  {
   "cell_type": "code",
   "execution_count": 19,
   "id": "cf2bbe4f",
   "metadata": {},
   "outputs": [
    {
     "data": {
      "text/html": [
       "<div>\n",
       "<style scoped>\n",
       "    .dataframe tbody tr th:only-of-type {\n",
       "        vertical-align: middle;\n",
       "    }\n",
       "\n",
       "    .dataframe tbody tr th {\n",
       "        vertical-align: top;\n",
       "    }\n",
       "\n",
       "    .dataframe thead th {\n",
       "        text-align: right;\n",
       "    }\n",
       "</style>\n",
       "<table border=\"1\" class=\"dataframe\">\n",
       "  <thead>\n",
       "    <tr style=\"text-align: right;\">\n",
       "      <th></th>\n",
       "      <th>precipitation</th>\n",
       "      <th>max_temp</th>\n",
       "      <th>min_temp</th>\n",
       "    </tr>\n",
       "    <tr>\n",
       "      <th>DATE</th>\n",
       "      <th></th>\n",
       "      <th></th>\n",
       "      <th></th>\n",
       "    </tr>\n",
       "  </thead>\n",
       "  <tbody>\n",
       "    <tr>\n",
       "      <th>1983-10-29</th>\n",
       "      <td>NaN</td>\n",
       "      <td>67.0</td>\n",
       "      <td>57.0</td>\n",
       "    </tr>\n",
       "    <tr>\n",
       "      <th>1983-10-30</th>\n",
       "      <td>NaN</td>\n",
       "      <td>70.0</td>\n",
       "      <td>63.0</td>\n",
       "    </tr>\n",
       "    <tr>\n",
       "      <th>1983-10-31</th>\n",
       "      <td>NaN</td>\n",
       "      <td>69.0</td>\n",
       "      <td>61.0</td>\n",
       "    </tr>\n",
       "    <tr>\n",
       "      <th>1983-11-12</th>\n",
       "      <td>NaN</td>\n",
       "      <td>63.0</td>\n",
       "      <td>55.0</td>\n",
       "    </tr>\n",
       "    <tr>\n",
       "      <th>1983-11-13</th>\n",
       "      <td>NaN</td>\n",
       "      <td>60.0</td>\n",
       "      <td>50.0</td>\n",
       "    </tr>\n",
       "    <tr>\n",
       "      <th>...</th>\n",
       "      <td>...</td>\n",
       "      <td>...</td>\n",
       "      <td>...</td>\n",
       "    </tr>\n",
       "    <tr>\n",
       "      <th>2013-12-15</th>\n",
       "      <td>NaN</td>\n",
       "      <td>58.0</td>\n",
       "      <td>33.0</td>\n",
       "    </tr>\n",
       "    <tr>\n",
       "      <th>2016-05-01</th>\n",
       "      <td>NaN</td>\n",
       "      <td>80.0</td>\n",
       "      <td>55.0</td>\n",
       "    </tr>\n",
       "    <tr>\n",
       "      <th>2016-05-02</th>\n",
       "      <td>NaN</td>\n",
       "      <td>68.0</td>\n",
       "      <td>53.0</td>\n",
       "    </tr>\n",
       "    <tr>\n",
       "      <th>2016-05-08</th>\n",
       "      <td>NaN</td>\n",
       "      <td>67.0</td>\n",
       "      <td>56.0</td>\n",
       "    </tr>\n",
       "    <tr>\n",
       "      <th>2017-10-28</th>\n",
       "      <td>NaN</td>\n",
       "      <td>68.0</td>\n",
       "      <td>50.0</td>\n",
       "    </tr>\n",
       "  </tbody>\n",
       "</table>\n",
       "<p>281 rows × 3 columns</p>\n",
       "</div>"
      ],
      "text/plain": [
       "            precipitation  max_temp  min_temp\n",
       "DATE                                         \n",
       "1983-10-29            NaN      67.0      57.0\n",
       "1983-10-30            NaN      70.0      63.0\n",
       "1983-10-31            NaN      69.0      61.0\n",
       "1983-11-12            NaN      63.0      55.0\n",
       "1983-11-13            NaN      60.0      50.0\n",
       "...                   ...       ...       ...\n",
       "2013-12-15            NaN      58.0      33.0\n",
       "2016-05-01            NaN      80.0      55.0\n",
       "2016-05-02            NaN      68.0      53.0\n",
       "2016-05-08            NaN      67.0      56.0\n",
       "2017-10-28            NaN      68.0      50.0\n",
       "\n",
       "[281 rows x 3 columns]"
      ]
     },
     "execution_count": 19,
     "metadata": {},
     "output_type": "execute_result"
    }
   ],
   "source": [
    "# Next, check for missing values in precipitation \n",
    "core_weather[core_weather['precipitation'].isnull()]"
   ]
  },
  {
   "cell_type": "code",
   "execution_count": 20,
   "id": "a19d35e4",
   "metadata": {},
   "outputs": [
    {
     "data": {
      "text/html": [
       "<div>\n",
       "<style scoped>\n",
       "    .dataframe tbody tr th:only-of-type {\n",
       "        vertical-align: middle;\n",
       "    }\n",
       "\n",
       "    .dataframe tbody tr th {\n",
       "        vertical-align: top;\n",
       "    }\n",
       "\n",
       "    .dataframe thead th {\n",
       "        text-align: right;\n",
       "    }\n",
       "</style>\n",
       "<table border=\"1\" class=\"dataframe\">\n",
       "  <thead>\n",
       "    <tr style=\"text-align: right;\">\n",
       "      <th></th>\n",
       "      <th>precipitation</th>\n",
       "      <th>max_temp</th>\n",
       "      <th>min_temp</th>\n",
       "    </tr>\n",
       "    <tr>\n",
       "      <th>DATE</th>\n",
       "      <th></th>\n",
       "      <th></th>\n",
       "      <th></th>\n",
       "    </tr>\n",
       "  </thead>\n",
       "  <tbody>\n",
       "    <tr>\n",
       "      <th>1983-10-20</th>\n",
       "      <td>0.00</td>\n",
       "      <td>73.0</td>\n",
       "      <td>52.0</td>\n",
       "    </tr>\n",
       "    <tr>\n",
       "      <th>1983-10-21</th>\n",
       "      <td>0.00</td>\n",
       "      <td>70.0</td>\n",
       "      <td>50.0</td>\n",
       "    </tr>\n",
       "    <tr>\n",
       "      <th>1983-10-22</th>\n",
       "      <td>0.00</td>\n",
       "      <td>70.0</td>\n",
       "      <td>50.0</td>\n",
       "    </tr>\n",
       "    <tr>\n",
       "      <th>1983-10-23</th>\n",
       "      <td>0.00</td>\n",
       "      <td>69.0</td>\n",
       "      <td>60.0</td>\n",
       "    </tr>\n",
       "    <tr>\n",
       "      <th>1983-10-24</th>\n",
       "      <td>0.00</td>\n",
       "      <td>73.0</td>\n",
       "      <td>58.0</td>\n",
       "    </tr>\n",
       "    <tr>\n",
       "      <th>1983-10-25</th>\n",
       "      <td>0.00</td>\n",
       "      <td>75.0</td>\n",
       "      <td>53.0</td>\n",
       "    </tr>\n",
       "    <tr>\n",
       "      <th>1983-10-26</th>\n",
       "      <td>0.00</td>\n",
       "      <td>79.0</td>\n",
       "      <td>53.0</td>\n",
       "    </tr>\n",
       "    <tr>\n",
       "      <th>1983-10-27</th>\n",
       "      <td>0.00</td>\n",
       "      <td>82.0</td>\n",
       "      <td>56.0</td>\n",
       "    </tr>\n",
       "    <tr>\n",
       "      <th>1983-10-28</th>\n",
       "      <td>0.00</td>\n",
       "      <td>74.0</td>\n",
       "      <td>56.0</td>\n",
       "    </tr>\n",
       "    <tr>\n",
       "      <th>1983-10-29</th>\n",
       "      <td>NaN</td>\n",
       "      <td>67.0</td>\n",
       "      <td>57.0</td>\n",
       "    </tr>\n",
       "    <tr>\n",
       "      <th>1983-10-30</th>\n",
       "      <td>NaN</td>\n",
       "      <td>70.0</td>\n",
       "      <td>63.0</td>\n",
       "    </tr>\n",
       "    <tr>\n",
       "      <th>1983-10-31</th>\n",
       "      <td>NaN</td>\n",
       "      <td>69.0</td>\n",
       "      <td>61.0</td>\n",
       "    </tr>\n",
       "    <tr>\n",
       "      <th>1983-11-01</th>\n",
       "      <td>0.26</td>\n",
       "      <td>69.0</td>\n",
       "      <td>60.0</td>\n",
       "    </tr>\n",
       "    <tr>\n",
       "      <th>1983-11-02</th>\n",
       "      <td>0.06</td>\n",
       "      <td>68.0</td>\n",
       "      <td>56.0</td>\n",
       "    </tr>\n",
       "    <tr>\n",
       "      <th>1983-11-03</th>\n",
       "      <td>0.00</td>\n",
       "      <td>68.0</td>\n",
       "      <td>56.0</td>\n",
       "    </tr>\n",
       "    <tr>\n",
       "      <th>1983-11-04</th>\n",
       "      <td>0.00</td>\n",
       "      <td>67.0</td>\n",
       "      <td>55.0</td>\n",
       "    </tr>\n",
       "    <tr>\n",
       "      <th>1983-11-05</th>\n",
       "      <td>0.00</td>\n",
       "      <td>66.0</td>\n",
       "      <td>51.0</td>\n",
       "    </tr>\n",
       "    <tr>\n",
       "      <th>1983-11-06</th>\n",
       "      <td>0.00</td>\n",
       "      <td>69.0</td>\n",
       "      <td>53.0</td>\n",
       "    </tr>\n",
       "    <tr>\n",
       "      <th>1983-11-07</th>\n",
       "      <td>0.00</td>\n",
       "      <td>63.0</td>\n",
       "      <td>50.0</td>\n",
       "    </tr>\n",
       "    <tr>\n",
       "      <th>1983-11-08</th>\n",
       "      <td>0.00</td>\n",
       "      <td>61.0</td>\n",
       "      <td>46.0</td>\n",
       "    </tr>\n",
       "    <tr>\n",
       "      <th>1983-11-09</th>\n",
       "      <td>0.05</td>\n",
       "      <td>60.0</td>\n",
       "      <td>52.0</td>\n",
       "    </tr>\n",
       "    <tr>\n",
       "      <th>1983-11-10</th>\n",
       "      <td>0.24</td>\n",
       "      <td>62.0</td>\n",
       "      <td>60.0</td>\n",
       "    </tr>\n",
       "    <tr>\n",
       "      <th>1983-11-11</th>\n",
       "      <td>1.06</td>\n",
       "      <td>67.0</td>\n",
       "      <td>55.0</td>\n",
       "    </tr>\n",
       "    <tr>\n",
       "      <th>1983-11-12</th>\n",
       "      <td>NaN</td>\n",
       "      <td>63.0</td>\n",
       "      <td>55.0</td>\n",
       "    </tr>\n",
       "    <tr>\n",
       "      <th>1983-11-13</th>\n",
       "      <td>NaN</td>\n",
       "      <td>60.0</td>\n",
       "      <td>50.0</td>\n",
       "    </tr>\n",
       "    <tr>\n",
       "      <th>1983-11-14</th>\n",
       "      <td>NaN</td>\n",
       "      <td>61.0</td>\n",
       "      <td>45.0</td>\n",
       "    </tr>\n",
       "    <tr>\n",
       "      <th>1983-11-15</th>\n",
       "      <td>0.00</td>\n",
       "      <td>60.0</td>\n",
       "      <td>45.0</td>\n",
       "    </tr>\n",
       "  </tbody>\n",
       "</table>\n",
       "</div>"
      ],
      "text/plain": [
       "            precipitation  max_temp  min_temp\n",
       "DATE                                         \n",
       "1983-10-20           0.00      73.0      52.0\n",
       "1983-10-21           0.00      70.0      50.0\n",
       "1983-10-22           0.00      70.0      50.0\n",
       "1983-10-23           0.00      69.0      60.0\n",
       "1983-10-24           0.00      73.0      58.0\n",
       "1983-10-25           0.00      75.0      53.0\n",
       "1983-10-26           0.00      79.0      53.0\n",
       "1983-10-27           0.00      82.0      56.0\n",
       "1983-10-28           0.00      74.0      56.0\n",
       "1983-10-29            NaN      67.0      57.0\n",
       "1983-10-30            NaN      70.0      63.0\n",
       "1983-10-31            NaN      69.0      61.0\n",
       "1983-11-01           0.26      69.0      60.0\n",
       "1983-11-02           0.06      68.0      56.0\n",
       "1983-11-03           0.00      68.0      56.0\n",
       "1983-11-04           0.00      67.0      55.0\n",
       "1983-11-05           0.00      66.0      51.0\n",
       "1983-11-06           0.00      69.0      53.0\n",
       "1983-11-07           0.00      63.0      50.0\n",
       "1983-11-08           0.00      61.0      46.0\n",
       "1983-11-09           0.05      60.0      52.0\n",
       "1983-11-10           0.24      62.0      60.0\n",
       "1983-11-11           1.06      67.0      55.0\n",
       "1983-11-12            NaN      63.0      55.0\n",
       "1983-11-13            NaN      60.0      50.0\n",
       "1983-11-14            NaN      61.0      45.0\n",
       "1983-11-15           0.00      60.0      45.0"
      ]
     },
     "execution_count": 20,
     "metadata": {},
     "output_type": "execute_result"
    }
   ],
   "source": [
    "# Choosing a date and seeing what happened before and after it\n",
    "core_weather.loc[\"1983-10-20\":\"1983-11-15\"]"
   ]
  },
  {
   "cell_type": "code",
   "execution_count": 21,
   "id": "3d189b3e",
   "metadata": {},
   "outputs": [
    {
     "data": {
      "text/plain": [
       "0.00    13962\n",
       "0.01      442\n",
       "0.02      202\n",
       "0.03      123\n",
       "0.04      105\n",
       "        ...  \n",
       "3.39        1\n",
       "1.88        1\n",
       "1.37        1\n",
       "1.21        1\n",
       "1.29        1\n",
       "Name: precipitation, Length: 176, dtype: int64"
      ]
     },
     "execution_count": 21,
     "metadata": {},
     "output_type": "execute_result"
    }
   ],
   "source": [
    "core_weather[\"precipitation\"].value_counts()"
   ]
  },
  {
   "cell_type": "markdown",
   "id": "58a04ce4",
   "metadata": {},
   "source": [
    "Looking two cells above, we see that for 29 Oct 1983, there was a missing value but several days before it had no rain. Comparing this with the cell above, we see that majority of the time there was no precipitation, with only few heavy rainfall noted with minimal occurence. Hence, with these observations, I decided to fill in missing precipitation values with a value of 0.\n",
    "\n",
    "Choosing not to drop the rows where missing data was, was done in order not to introduce bias into the dataset as there was almost a 2% missing value rate. This can be argued to be negligible."
   ]
  },
  {
   "cell_type": "code",
   "execution_count": 22,
   "id": "e862887a",
   "metadata": {},
   "outputs": [],
   "source": [
    "# Fill in missing precipitation values\n",
    "core_weather['precipitation'].fillna(0, inplace = True)"
   ]
  },
  {
   "cell_type": "markdown",
   "id": "e4a9c26f",
   "metadata": {},
   "source": [
    "### Maximum and minimum temperature columns"
   ]
  },
  {
   "cell_type": "code",
   "execution_count": 23,
   "id": "478cb2c7",
   "metadata": {},
   "outputs": [
    {
     "data": {
      "text/html": [
       "<div>\n",
       "<style scoped>\n",
       "    .dataframe tbody tr th:only-of-type {\n",
       "        vertical-align: middle;\n",
       "    }\n",
       "\n",
       "    .dataframe tbody tr th {\n",
       "        vertical-align: top;\n",
       "    }\n",
       "\n",
       "    .dataframe thead th {\n",
       "        text-align: right;\n",
       "    }\n",
       "</style>\n",
       "<table border=\"1\" class=\"dataframe\">\n",
       "  <thead>\n",
       "    <tr style=\"text-align: right;\">\n",
       "      <th></th>\n",
       "      <th>precipitation</th>\n",
       "      <th>max_temp</th>\n",
       "      <th>min_temp</th>\n",
       "    </tr>\n",
       "    <tr>\n",
       "      <th>DATE</th>\n",
       "      <th></th>\n",
       "      <th></th>\n",
       "      <th></th>\n",
       "    </tr>\n",
       "  </thead>\n",
       "  <tbody>\n",
       "    <tr>\n",
       "      <th>2004-11-20</th>\n",
       "      <td>0.0</td>\n",
       "      <td>NaN</td>\n",
       "      <td>NaN</td>\n",
       "    </tr>\n",
       "    <tr>\n",
       "      <th>2013-06-16</th>\n",
       "      <td>0.0</td>\n",
       "      <td>NaN</td>\n",
       "      <td>NaN</td>\n",
       "    </tr>\n",
       "    <tr>\n",
       "      <th>2019-04-18</th>\n",
       "      <td>0.0</td>\n",
       "      <td>NaN</td>\n",
       "      <td>50.0</td>\n",
       "    </tr>\n",
       "    <tr>\n",
       "      <th>2019-04-21</th>\n",
       "      <td>0.0</td>\n",
       "      <td>NaN</td>\n",
       "      <td>52.0</td>\n",
       "    </tr>\n",
       "    <tr>\n",
       "      <th>2019-04-22</th>\n",
       "      <td>0.0</td>\n",
       "      <td>NaN</td>\n",
       "      <td>50.0</td>\n",
       "    </tr>\n",
       "    <tr>\n",
       "      <th>2020-08-29</th>\n",
       "      <td>0.0</td>\n",
       "      <td>NaN</td>\n",
       "      <td>NaN</td>\n",
       "    </tr>\n",
       "    <tr>\n",
       "      <th>2020-09-08</th>\n",
       "      <td>0.0</td>\n",
       "      <td>NaN</td>\n",
       "      <td>NaN</td>\n",
       "    </tr>\n",
       "    <tr>\n",
       "      <th>2020-09-09</th>\n",
       "      <td>0.0</td>\n",
       "      <td>NaN</td>\n",
       "      <td>NaN</td>\n",
       "    </tr>\n",
       "    <tr>\n",
       "      <th>2021-10-31</th>\n",
       "      <td>0.0</td>\n",
       "      <td>NaN</td>\n",
       "      <td>56.0</td>\n",
       "    </tr>\n",
       "    <tr>\n",
       "      <th>2022-10-08</th>\n",
       "      <td>0.0</td>\n",
       "      <td>NaN</td>\n",
       "      <td>NaN</td>\n",
       "    </tr>\n",
       "    <tr>\n",
       "      <th>2022-10-09</th>\n",
       "      <td>0.0</td>\n",
       "      <td>NaN</td>\n",
       "      <td>NaN</td>\n",
       "    </tr>\n",
       "  </tbody>\n",
       "</table>\n",
       "</div>"
      ],
      "text/plain": [
       "            precipitation  max_temp  min_temp\n",
       "DATE                                         \n",
       "2004-11-20            0.0       NaN       NaN\n",
       "2013-06-16            0.0       NaN       NaN\n",
       "2019-04-18            0.0       NaN      50.0\n",
       "2019-04-21            0.0       NaN      52.0\n",
       "2019-04-22            0.0       NaN      50.0\n",
       "2020-08-29            0.0       NaN       NaN\n",
       "2020-09-08            0.0       NaN       NaN\n",
       "2020-09-09            0.0       NaN       NaN\n",
       "2021-10-31            0.0       NaN      56.0\n",
       "2022-10-08            0.0       NaN       NaN\n",
       "2022-10-09            0.0       NaN       NaN"
      ]
     },
     "execution_count": 23,
     "metadata": {},
     "output_type": "execute_result"
    }
   ],
   "source": [
    "core_weather[core_weather[\"max_temp\"].isna()]"
   ]
  },
  {
   "cell_type": "code",
   "execution_count": 24,
   "id": "20bac4ef",
   "metadata": {},
   "outputs": [
    {
     "data": {
      "text/plain": [
       "67.0     852\n",
       "68.0     849\n",
       "60.0     836\n",
       "66.0     821\n",
       "65.0     820\n",
       "        ... \n",
       "122.0      1\n",
       "39.0       1\n",
       "102.0      1\n",
       "107.0      1\n",
       "38.0       1\n",
       "Name: max_temp, Length: 67, dtype: int64"
      ]
     },
     "execution_count": 24,
     "metadata": {},
     "output_type": "execute_result"
    }
   ],
   "source": [
    "core_weather[\"max_temp\"].value_counts()"
   ]
  },
  {
   "cell_type": "markdown",
   "id": "35620211",
   "metadata": {},
   "source": [
    "Looking two cells above, we notice that the missing values are < 20. The cell above shows that temperature in 60's range were the most frequent. In this case, since the value is numeric and there are a range of frequent values, the mean or median would be a good way to replace missing values based on the distibution of data. Let's explore that below."
   ]
  },
  {
   "cell_type": "code",
   "execution_count": 25,
   "id": "59c685b5",
   "metadata": {},
   "outputs": [],
   "source": [
    "import numpy as np\n",
    "import seaborn as sns\n",
    "import matplotlib.pyplot as plt"
   ]
  },
  {
   "cell_type": "code",
   "execution_count": 26,
   "id": "999759de",
   "metadata": {},
   "outputs": [
    {
     "name": "stderr",
     "output_type": "stream",
     "text": [
      "/Users/admin/opt/anaconda3/lib/python3.8/site-packages/seaborn/_decorators.py:36: FutureWarning: Pass the following variable as a keyword arg: x. From version 0.12, the only valid positional argument will be `data`, and passing other arguments without an explicit keyword will result in an error or misinterpretation.\n",
      "  warnings.warn(\n"
     ]
    },
    {
     "data": {
      "text/plain": [
       "<AxesSubplot:xlabel='max_temp'>"
      ]
     },
     "execution_count": 26,
     "metadata": {},
     "output_type": "execute_result"
    },
    {
     "data": {
      "image/png": "[encoded data removed]",
      "text/plain": [
       "<Figure size 432x288 with 1 Axes>"
      ]
     },
     "metadata": {
      "needs_background": "light"
     },
     "output_type": "display_data"
    }
   ],
   "source": [
    "sns.boxplot(core_weather[\"max_temp\"])"
   ]
  },
  {
   "cell_type": "code",
   "execution_count": 27,
   "id": "105534b7",
   "metadata": {},
   "outputs": [
    {
     "name": "stderr",
     "output_type": "stream",
     "text": [
      "/Users/admin/opt/anaconda3/lib/python3.8/site-packages/seaborn/distributions.py:2557: FutureWarning: `distplot` is a deprecated function and will be removed in a future version. Please adapt your code to use either `displot` (a figure-level function with similar flexibility) or `histplot` (an axes-level function for histograms).\n",
      "  warnings.warn(msg, FutureWarning)\n"
     ]
    },
    {
     "data": {
      "text/plain": [
       "<AxesSubplot:xlabel='max_temp', ylabel='Density'>"
      ]
     },
     "execution_count": 27,
     "metadata": {},
     "output_type": "execute_result"
    },
    {
     "data": {
      "image/png": "[encoded data removed]",
      "text/plain": [
       "<Figure size 720x576 with 1 Axes>"
      ]
     },
     "metadata": {
      "needs_background": "light"
     },
     "output_type": "display_data"
    }
   ],
   "source": [
    "fig, ax = plt.subplots(figsize = (10,8))\n",
    "sns.distplot(core_weather[\"max_temp\"])"
   ]
  },
  {
   "cell_type": "markdown",
   "id": "ab47f8e5",
   "metadata": {},
   "source": [
    "The boxplot shows that there are a lot of outliers in the maximum temperature column and the distplot indicates that the data is right skewed (having a longer tail on the right). As a result, the missing values in the column would be replaced with the median."
   ]
  },
  {
   "cell_type": "code",
   "execution_count": 28,
   "id": "1cd3fb6f",
   "metadata": {},
   "outputs": [
    {
     "data": {
      "text/html": [
       "<div>\n",
       "<style scoped>\n",
       "    .dataframe tbody tr th:only-of-type {\n",
       "        vertical-align: middle;\n",
       "    }\n",
       "\n",
       "    .dataframe tbody tr th {\n",
       "        vertical-align: top;\n",
       "    }\n",
       "\n",
       "    .dataframe thead th {\n",
       "        text-align: right;\n",
       "    }\n",
       "</style>\n",
       "<table border=\"1\" class=\"dataframe\">\n",
       "  <thead>\n",
       "    <tr style=\"text-align: right;\">\n",
       "      <th></th>\n",
       "      <th>precipitation</th>\n",
       "      <th>max_temp</th>\n",
       "      <th>min_temp</th>\n",
       "    </tr>\n",
       "    <tr>\n",
       "      <th>DATE</th>\n",
       "      <th></th>\n",
       "      <th></th>\n",
       "      <th></th>\n",
       "    </tr>\n",
       "  </thead>\n",
       "  <tbody>\n",
       "    <tr>\n",
       "      <th>2004-11-20</th>\n",
       "      <td>0.0</td>\n",
       "      <td>NaN</td>\n",
       "      <td>NaN</td>\n",
       "    </tr>\n",
       "    <tr>\n",
       "      <th>2011-12-21</th>\n",
       "      <td>0.0</td>\n",
       "      <td>61.0</td>\n",
       "      <td>NaN</td>\n",
       "    </tr>\n",
       "    <tr>\n",
       "      <th>2011-12-22</th>\n",
       "      <td>0.0</td>\n",
       "      <td>62.0</td>\n",
       "      <td>NaN</td>\n",
       "    </tr>\n",
       "    <tr>\n",
       "      <th>2011-12-23</th>\n",
       "      <td>0.0</td>\n",
       "      <td>56.0</td>\n",
       "      <td>NaN</td>\n",
       "    </tr>\n",
       "    <tr>\n",
       "      <th>2011-12-24</th>\n",
       "      <td>0.0</td>\n",
       "      <td>55.0</td>\n",
       "      <td>NaN</td>\n",
       "    </tr>\n",
       "    <tr>\n",
       "      <th>2011-12-25</th>\n",
       "      <td>0.0</td>\n",
       "      <td>54.0</td>\n",
       "      <td>NaN</td>\n",
       "    </tr>\n",
       "    <tr>\n",
       "      <th>2013-06-16</th>\n",
       "      <td>0.0</td>\n",
       "      <td>NaN</td>\n",
       "      <td>NaN</td>\n",
       "    </tr>\n",
       "    <tr>\n",
       "      <th>2020-08-29</th>\n",
       "      <td>0.0</td>\n",
       "      <td>NaN</td>\n",
       "      <td>NaN</td>\n",
       "    </tr>\n",
       "    <tr>\n",
       "      <th>2020-09-08</th>\n",
       "      <td>0.0</td>\n",
       "      <td>NaN</td>\n",
       "      <td>NaN</td>\n",
       "    </tr>\n",
       "    <tr>\n",
       "      <th>2020-09-09</th>\n",
       "      <td>0.0</td>\n",
       "      <td>NaN</td>\n",
       "      <td>NaN</td>\n",
       "    </tr>\n",
       "    <tr>\n",
       "      <th>2022-10-08</th>\n",
       "      <td>0.0</td>\n",
       "      <td>NaN</td>\n",
       "      <td>NaN</td>\n",
       "    </tr>\n",
       "    <tr>\n",
       "      <th>2022-10-09</th>\n",
       "      <td>0.0</td>\n",
       "      <td>NaN</td>\n",
       "      <td>NaN</td>\n",
       "    </tr>\n",
       "    <tr>\n",
       "      <th>2022-10-10</th>\n",
       "      <td>0.0</td>\n",
       "      <td>69.0</td>\n",
       "      <td>NaN</td>\n",
       "    </tr>\n",
       "    <tr>\n",
       "      <th>2022-10-11</th>\n",
       "      <td>0.0</td>\n",
       "      <td>66.0</td>\n",
       "      <td>NaN</td>\n",
       "    </tr>\n",
       "  </tbody>\n",
       "</table>\n",
       "</div>"
      ],
      "text/plain": [
       "            precipitation  max_temp  min_temp\n",
       "DATE                                         \n",
       "2004-11-20            0.0       NaN       NaN\n",
       "2011-12-21            0.0      61.0       NaN\n",
       "2011-12-22            0.0      62.0       NaN\n",
       "2011-12-23            0.0      56.0       NaN\n",
       "2011-12-24            0.0      55.0       NaN\n",
       "2011-12-25            0.0      54.0       NaN\n",
       "2013-06-16            0.0       NaN       NaN\n",
       "2020-08-29            0.0       NaN       NaN\n",
       "2020-09-08            0.0       NaN       NaN\n",
       "2020-09-09            0.0       NaN       NaN\n",
       "2022-10-08            0.0       NaN       NaN\n",
       "2022-10-09            0.0       NaN       NaN\n",
       "2022-10-10            0.0      69.0       NaN\n",
       "2022-10-11            0.0      66.0       NaN"
      ]
     },
     "execution_count": 28,
     "metadata": {},
     "output_type": "execute_result"
    }
   ],
   "source": [
    "# Minimum temperature\n",
    "core_weather[core_weather[\"min_temp\"].isnull()]"
   ]
  },
  {
   "cell_type": "code",
   "execution_count": 29,
   "id": "f1d98dca",
   "metadata": {},
   "outputs": [
    {
     "data": {
      "text/html": [
       "<div>\n",
       "<style scoped>\n",
       "    .dataframe tbody tr th:only-of-type {\n",
       "        vertical-align: middle;\n",
       "    }\n",
       "\n",
       "    .dataframe tbody tr th {\n",
       "        vertical-align: top;\n",
       "    }\n",
       "\n",
       "    .dataframe thead th {\n",
       "        text-align: right;\n",
       "    }\n",
       "</style>\n",
       "<table border=\"1\" class=\"dataframe\">\n",
       "  <thead>\n",
       "    <tr style=\"text-align: right;\">\n",
       "      <th></th>\n",
       "      <th>precipitation</th>\n",
       "      <th>max_temp</th>\n",
       "      <th>min_temp</th>\n",
       "    </tr>\n",
       "    <tr>\n",
       "      <th>DATE</th>\n",
       "      <th></th>\n",
       "      <th></th>\n",
       "      <th></th>\n",
       "    </tr>\n",
       "  </thead>\n",
       "  <tbody>\n",
       "    <tr>\n",
       "      <th>2011-12-20</th>\n",
       "      <td>0.0</td>\n",
       "      <td>61.0</td>\n",
       "      <td>35.0</td>\n",
       "    </tr>\n",
       "    <tr>\n",
       "      <th>2011-12-21</th>\n",
       "      <td>0.0</td>\n",
       "      <td>61.0</td>\n",
       "      <td>NaN</td>\n",
       "    </tr>\n",
       "    <tr>\n",
       "      <th>2011-12-22</th>\n",
       "      <td>0.0</td>\n",
       "      <td>62.0</td>\n",
       "      <td>NaN</td>\n",
       "    </tr>\n",
       "    <tr>\n",
       "      <th>2011-12-23</th>\n",
       "      <td>0.0</td>\n",
       "      <td>56.0</td>\n",
       "      <td>NaN</td>\n",
       "    </tr>\n",
       "    <tr>\n",
       "      <th>2011-12-24</th>\n",
       "      <td>0.0</td>\n",
       "      <td>55.0</td>\n",
       "      <td>NaN</td>\n",
       "    </tr>\n",
       "    <tr>\n",
       "      <th>2011-12-25</th>\n",
       "      <td>0.0</td>\n",
       "      <td>54.0</td>\n",
       "      <td>NaN</td>\n",
       "    </tr>\n",
       "    <tr>\n",
       "      <th>2011-12-26</th>\n",
       "      <td>0.0</td>\n",
       "      <td>50.0</td>\n",
       "      <td>32.0</td>\n",
       "    </tr>\n",
       "  </tbody>\n",
       "</table>\n",
       "</div>"
      ],
      "text/plain": [
       "            precipitation  max_temp  min_temp\n",
       "DATE                                         \n",
       "2011-12-20            0.0      61.0      35.0\n",
       "2011-12-21            0.0      61.0       NaN\n",
       "2011-12-22            0.0      62.0       NaN\n",
       "2011-12-23            0.0      56.0       NaN\n",
       "2011-12-24            0.0      55.0       NaN\n",
       "2011-12-25            0.0      54.0       NaN\n",
       "2011-12-26            0.0      50.0      32.0"
      ]
     },
     "execution_count": 29,
     "metadata": {},
     "output_type": "execute_result"
    }
   ],
   "source": [
    "core_weather.loc[\"2011-12-20\":\"2011-12-26\"]"
   ]
  },
  {
   "cell_type": "code",
   "execution_count": 30,
   "id": "f21c91a9",
   "metadata": {},
   "outputs": [
    {
     "data": {
      "text/plain": [
       "55.0    1154\n",
       "56.0    1110\n",
       "54.0    1055\n",
       "57.0     997\n",
       "53.0     984\n",
       "52.0     945\n",
       "50.0     924\n",
       "51.0     904\n",
       "58.0     783\n",
       "48.0     749\n",
       "49.0     728\n",
       "47.0     667\n",
       "45.0     622\n",
       "46.0     562\n",
       "59.0     553\n",
       "44.0     530\n",
       "43.0     495\n",
       "42.0     438\n",
       "60.0     426\n",
       "41.0     388\n",
       "40.0     354\n",
       "39.0     278\n",
       "61.0     268\n",
       "38.0     247\n",
       "37.0     195\n",
       "36.0     165\n",
       "62.0     126\n",
       "35.0     122\n",
       "34.0      92\n",
       "63.0      82\n",
       "33.0      67\n",
       "32.0      45\n",
       "31.0      32\n",
       "64.0      22\n",
       "65.0      17\n",
       "30.0      12\n",
       "66.0      11\n",
       "67.0       6\n",
       "28.0       5\n",
       "68.0       4\n",
       "29.0       3\n",
       "27.0       2\n",
       "26.0       2\n",
       "1.0        2\n",
       "11.0       1\n",
       "18.0       1\n",
       "69.0       1\n",
       "7.0        1\n",
       "Name: min_temp, dtype: int64"
      ]
     },
     "execution_count": 30,
     "metadata": {},
     "output_type": "execute_result"
    }
   ],
   "source": [
    "core_weather[\"min_temp\"].value_counts()"
   ]
  },
  {
   "cell_type": "code",
   "execution_count": 31,
   "id": "afc0cd66",
   "metadata": {},
   "outputs": [
    {
     "name": "stderr",
     "output_type": "stream",
     "text": [
      "/Users/admin/opt/anaconda3/lib/python3.8/site-packages/seaborn/_decorators.py:36: FutureWarning: Pass the following variable as a keyword arg: x. From version 0.12, the only valid positional argument will be `data`, and passing other arguments without an explicit keyword will result in an error or misinterpretation.\n",
      "  warnings.warn(\n"
     ]
    },
    {
     "data": {
      "text/plain": [
       "<AxesSubplot:xlabel='min_temp'>"
      ]
     },
     "execution_count": 31,
     "metadata": {},
     "output_type": "execute_result"
    },
    {
     "data": {
      "image/png": "[encoded data removed]",
      "text/plain": [
       "<Figure size 432x288 with 1 Axes>"
      ]
     },
     "metadata": {
      "needs_background": "light"
     },
     "output_type": "display_data"
    }
   ],
   "source": [
    "sns.boxplot(core_weather[\"min_temp\"])"
   ]
  },
  {
   "cell_type": "code",
   "execution_count": 32,
   "id": "9c774130",
   "metadata": {},
   "outputs": [
    {
     "name": "stderr",
     "output_type": "stream",
     "text": [
      "/Users/admin/opt/anaconda3/lib/python3.8/site-packages/seaborn/distributions.py:2557: FutureWarning: `distplot` is a deprecated function and will be removed in a future version. Please adapt your code to use either `displot` (a figure-level function with similar flexibility) or `histplot` (an axes-level function for histograms).\n",
      "  warnings.warn(msg, FutureWarning)\n"
     ]
    },
    {
     "data": {
      "text/plain": [
       "<AxesSubplot:xlabel='min_temp', ylabel='Density'>"
      ]
     },
     "execution_count": 32,
     "metadata": {},
     "output_type": "execute_result"
    },
    {
     "data": {
      "image/png": "[encoded data removed]",
      "text/plain": [
       "<Figure size 720x576 with 1 Axes>"
      ]
     },
     "metadata": {
      "needs_background": "light"
     },
     "output_type": "display_data"
    }
   ],
   "source": [
    "fig, ax = plt.subplots(figsize = (10,8))\n",
    "sns.distplot(core_weather[\"min_temp\"])"
   ]
  },
  {
   "cell_type": "markdown",
   "id": "17065ccc",
   "metadata": {},
   "source": [
    "On the other hand, the boxplot and distplot indicate that the minimum temperature is left skewed and not distributed normaaly. Since data in both columns are skewed, I will replace missing values in both columns using the median."
   ]
  },
  {
   "cell_type": "code",
   "execution_count": 33,
   "id": "46c80c78",
   "metadata": {},
   "outputs": [],
   "source": [
    "core_weather[\"min_temp\"] = core_weather[\"min_temp\"].fillna(core_weather[\"min_temp\"].median())\n",
    "\n",
    "core_weather[\"max_temp\"] = core_weather[\"max_temp\"].fillna(core_weather[\"max_temp\"].median())"
   ]
  },
  {
   "cell_type": "code",
   "execution_count": 34,
   "id": "ce54e839",
   "metadata": {},
   "outputs": [
    {
     "data": {
      "text/plain": [
       "precipitation    0.0\n",
       "max_temp         0.0\n",
       "min_temp         0.0\n",
       "dtype: float64"
      ]
     },
     "execution_count": 34,
     "metadata": {},
     "output_type": "execute_result"
    }
   ],
   "source": [
    "# This confirms that no missing value exists in the df again\n",
    "core_weather.isnull().sum()/core_weather.shape[0]"
   ]
  },
  {
   "cell_type": "code",
   "execution_count": 35,
   "id": "379b3b2e",
   "metadata": {},
   "outputs": [
    {
     "data": {
      "text/plain": [
       "precipitation    float64\n",
       "max_temp         float64\n",
       "min_temp         float64\n",
       "dtype: object"
      ]
     },
     "execution_count": 35,
     "metadata": {},
     "output_type": "execute_result"
    }
   ],
   "source": [
    "# Confirm the data types \n",
    "core_weather.dtypes"
   ]
  },
  {
   "cell_type": "code",
   "execution_count": 36,
   "id": "96a1af41",
   "metadata": {},
   "outputs": [
    {
     "data": {
      "text/plain": [
       "precipitation    0\n",
       "max_temp         0\n",
       "min_temp         0\n",
       "dtype: int64"
      ]
     },
     "execution_count": 36,
     "metadata": {},
     "output_type": "execute_result"
    }
   ],
   "source": [
    "# Check to see if the value 9999 is in any column\n",
    "core_weather.apply(lambda x: (x == 9999).sum())"
   ]
  },
  {
   "cell_type": "markdown",
   "id": "7cf01a78",
   "metadata": {},
   "source": [
    "## 2.0 Analyse data"
   ]
  },
  {
   "cell_type": "code",
   "execution_count": 37,
   "id": "dbafc4e6",
   "metadata": {},
   "outputs": [
    {
     "data": {
      "image/png": "[encoded data removed]",
      "text/plain": [
       "<Figure size 720x576 with 3 Axes>"
      ]
     },
     "metadata": {
      "needs_background": "light"
     },
     "output_type": "display_data"
    }
   ],
   "source": [
    "axs = core_weather.plot.area(figsize=(10, 8), subplots=True)\n",
    "plt.show()"
   ]
  },
  {
   "cell_type": "code",
   "execution_count": 38,
   "id": "a0da046c",
   "metadata": {},
   "outputs": [
    {
     "data": {
      "text/plain": [
       "<AxesSubplot:xlabel='DATE'>"
      ]
     },
     "execution_count": 38,
     "metadata": {},
     "output_type": "execute_result"
    },
    {
     "data": {
      "image/png": "[encoded data removed]",
      "text/plain": [
       "<Figure size 432x288 with 1 Axes>"
      ]
     },
     "metadata": {
      "needs_background": "light"
     },
     "output_type": "display_data"
    }
   ],
   "source": [
    "core_weather[[\"max_temp\",\"min_temp\"]].plot()"
   ]
  },
  {
   "cell_type": "code",
   "execution_count": 39,
   "id": "45f5019f",
   "metadata": {},
   "outputs": [
    {
     "data": {
      "text/plain": [
       "1960    366\n",
       "1961    365\n",
       "1962    365\n",
       "1963    365\n",
       "1964    366\n",
       "1965    365\n",
       "1966    365\n",
       "1967    365\n",
       "1968    366\n",
       "1969    365\n",
       "1970    365\n",
       "1971    365\n",
       "1972    366\n",
       "1973    365\n",
       "1974    365\n",
       "1975    365\n",
       "1976    366\n",
       "1977    365\n",
       "1978    365\n",
       "1979    365\n",
       "1980    366\n",
       "1983    184\n",
       "1984    366\n",
       "1985    365\n",
       "1986    212\n",
       "2000    365\n",
       "2001    365\n",
       "2002    365\n",
       "2003    365\n",
       "2004    366\n",
       "2005    365\n",
       "2006    365\n",
       "2007    365\n",
       "2008    366\n",
       "2009    365\n",
       "2010    365\n",
       "2011    365\n",
       "2012    365\n",
       "2013    365\n",
       "2014    365\n",
       "2015    365\n",
       "2016    366\n",
       "2017    365\n",
       "2018    365\n",
       "2019    365\n",
       "2020    366\n",
       "2021    365\n",
       "2022    359\n",
       "Name: DATE, dtype: int64"
      ]
     },
     "execution_count": 39,
     "metadata": {},
     "output_type": "execute_result"
    }
   ],
   "source": [
    "# Return the value count for each year in ascending order\n",
    "core_weather.index.year.value_counts().sort_index()"
   ]
  },
  {
   "cell_type": "markdown",
   "id": "b01064ce",
   "metadata": {},
   "source": [
    "We see that years 1981 - 1982 and 1987 - 1999 are missing completely, with some other years misssing values for some days."
   ]
  },
  {
   "cell_type": "code",
   "execution_count": 40,
   "id": "009742ff",
   "metadata": {},
   "outputs": [
    {
     "data": {
      "text/plain": [
       "<AxesSubplot:title={'center':'Total precipitation per year'}, xlabel='DATE'>"
      ]
     },
     "execution_count": 40,
     "metadata": {},
     "output_type": "execute_result"
    },
    {
     "data": {
      "image/png": "[encoded data removed]",
      "text/plain": [
       "<Figure size 432x288 with 1 Axes>"
      ]
     },
     "metadata": {
      "needs_background": "light"
     },
     "output_type": "display_data"
    }
   ],
   "source": [
    "# Calculate precipitation by year\n",
    "core_weather[\"precipitation\"].groupby(core_weather.index.year).sum().plot(title = \"Total precipitation per year\")"
   ]
  },
  {
   "cell_type": "code",
   "execution_count": 41,
   "id": "8bb46e95",
   "metadata": {},
   "outputs": [
    {
     "data": {
      "text/html": [
       "<div>\n",
       "<style scoped>\n",
       "    .dataframe tbody tr th:only-of-type {\n",
       "        vertical-align: middle;\n",
       "    }\n",
       "\n",
       "    .dataframe tbody tr th {\n",
       "        vertical-align: top;\n",
       "    }\n",
       "\n",
       "    .dataframe thead th {\n",
       "        text-align: right;\n",
       "    }\n",
       "</style>\n",
       "<table border=\"1\" class=\"dataframe\">\n",
       "  <thead>\n",
       "    <tr style=\"text-align: right;\">\n",
       "      <th></th>\n",
       "      <th>precipitation</th>\n",
       "      <th>max_temp</th>\n",
       "      <th>min_temp</th>\n",
       "    </tr>\n",
       "    <tr>\n",
       "      <th>DATE</th>\n",
       "      <th></th>\n",
       "      <th></th>\n",
       "      <th></th>\n",
       "    </tr>\n",
       "  </thead>\n",
       "  <tbody>\n",
       "    <tr>\n",
       "      <th>1960-01-01</th>\n",
       "      <td>0.0</td>\n",
       "      <td>49.0</td>\n",
       "      <td>30.0</td>\n",
       "    </tr>\n",
       "    <tr>\n",
       "      <th>1960-01-02</th>\n",
       "      <td>0.0</td>\n",
       "      <td>49.0</td>\n",
       "      <td>29.0</td>\n",
       "    </tr>\n",
       "    <tr>\n",
       "      <th>1960-01-03</th>\n",
       "      <td>0.0</td>\n",
       "      <td>54.0</td>\n",
       "      <td>35.0</td>\n",
       "    </tr>\n",
       "    <tr>\n",
       "      <th>1960-01-04</th>\n",
       "      <td>0.0</td>\n",
       "      <td>54.0</td>\n",
       "      <td>36.0</td>\n",
       "    </tr>\n",
       "    <tr>\n",
       "      <th>1960-01-05</th>\n",
       "      <td>0.0</td>\n",
       "      <td>55.0</td>\n",
       "      <td>33.0</td>\n",
       "    </tr>\n",
       "    <tr>\n",
       "      <th>...</th>\n",
       "      <td>...</td>\n",
       "      <td>...</td>\n",
       "      <td>...</td>\n",
       "    </tr>\n",
       "    <tr>\n",
       "      <th>2022-12-21</th>\n",
       "      <td>0.0</td>\n",
       "      <td>57.0</td>\n",
       "      <td>38.0</td>\n",
       "    </tr>\n",
       "    <tr>\n",
       "      <th>2022-12-22</th>\n",
       "      <td>0.0</td>\n",
       "      <td>56.0</td>\n",
       "      <td>42.0</td>\n",
       "    </tr>\n",
       "    <tr>\n",
       "      <th>2022-12-23</th>\n",
       "      <td>0.0</td>\n",
       "      <td>57.0</td>\n",
       "      <td>44.0</td>\n",
       "    </tr>\n",
       "    <tr>\n",
       "      <th>2022-12-24</th>\n",
       "      <td>0.0</td>\n",
       "      <td>57.0</td>\n",
       "      <td>42.0</td>\n",
       "    </tr>\n",
       "    <tr>\n",
       "      <th>2022-12-25</th>\n",
       "      <td>0.0</td>\n",
       "      <td>61.0</td>\n",
       "      <td>42.0</td>\n",
       "    </tr>\n",
       "  </tbody>\n",
       "</table>\n",
       "<p>17191 rows × 3 columns</p>\n",
       "</div>"
      ],
      "text/plain": [
       "            precipitation  max_temp  min_temp\n",
       "DATE                                         \n",
       "1960-01-01            0.0      49.0      30.0\n",
       "1960-01-02            0.0      49.0      29.0\n",
       "1960-01-03            0.0      54.0      35.0\n",
       "1960-01-04            0.0      54.0      36.0\n",
       "1960-01-05            0.0      55.0      33.0\n",
       "...                   ...       ...       ...\n",
       "2022-12-21            0.0      57.0      38.0\n",
       "2022-12-22            0.0      56.0      42.0\n",
       "2022-12-23            0.0      57.0      44.0\n",
       "2022-12-24            0.0      57.0      42.0\n",
       "2022-12-25            0.0      61.0      42.0\n",
       "\n",
       "[17191 rows x 3 columns]"
      ]
     },
     "execution_count": 41,
     "metadata": {},
     "output_type": "execute_result"
    }
   ],
   "source": [
    "core_weather"
   ]
  },
  {
   "cell_type": "markdown",
   "id": "03b2d700",
   "metadata": {},
   "source": [
    "## 3.0 Machine Learning Training Model"
   ]
  },
  {
   "cell_type": "code",
   "execution_count": 42,
   "id": "dccd7d5d",
   "metadata": {},
   "outputs": [],
   "source": [
    "# create a target column with the next day's maximum temperature\n",
    "\n",
    "core_weather[\"actual\"] = core_weather.shift(-1)[\"max_temp\"]"
   ]
  },
  {
   "cell_type": "code",
   "execution_count": 43,
   "id": "37645460",
   "metadata": {},
   "outputs": [
    {
     "data": {
      "text/html": [
       "<div>\n",
       "<style scoped>\n",
       "    .dataframe tbody tr th:only-of-type {\n",
       "        vertical-align: middle;\n",
       "    }\n",
       "\n",
       "    .dataframe tbody tr th {\n",
       "        vertical-align: top;\n",
       "    }\n",
       "\n",
       "    .dataframe thead th {\n",
       "        text-align: right;\n",
       "    }\n",
       "</style>\n",
       "<table border=\"1\" class=\"dataframe\">\n",
       "  <thead>\n",
       "    <tr style=\"text-align: right;\">\n",
       "      <th></th>\n",
       "      <th>precipitation</th>\n",
       "      <th>max_temp</th>\n",
       "      <th>min_temp</th>\n",
       "      <th>actual</th>\n",
       "    </tr>\n",
       "    <tr>\n",
       "      <th>DATE</th>\n",
       "      <th></th>\n",
       "      <th></th>\n",
       "      <th></th>\n",
       "      <th></th>\n",
       "    </tr>\n",
       "  </thead>\n",
       "  <tbody>\n",
       "    <tr>\n",
       "      <th>1960-01-01</th>\n",
       "      <td>0.0</td>\n",
       "      <td>49.0</td>\n",
       "      <td>30.0</td>\n",
       "      <td>49.0</td>\n",
       "    </tr>\n",
       "    <tr>\n",
       "      <th>1960-01-02</th>\n",
       "      <td>0.0</td>\n",
       "      <td>49.0</td>\n",
       "      <td>29.0</td>\n",
       "      <td>54.0</td>\n",
       "    </tr>\n",
       "    <tr>\n",
       "      <th>1960-01-03</th>\n",
       "      <td>0.0</td>\n",
       "      <td>54.0</td>\n",
       "      <td>35.0</td>\n",
       "      <td>54.0</td>\n",
       "    </tr>\n",
       "    <tr>\n",
       "      <th>1960-01-04</th>\n",
       "      <td>0.0</td>\n",
       "      <td>54.0</td>\n",
       "      <td>36.0</td>\n",
       "      <td>55.0</td>\n",
       "    </tr>\n",
       "    <tr>\n",
       "      <th>1960-01-05</th>\n",
       "      <td>0.0</td>\n",
       "      <td>55.0</td>\n",
       "      <td>33.0</td>\n",
       "      <td>53.0</td>\n",
       "    </tr>\n",
       "    <tr>\n",
       "      <th>...</th>\n",
       "      <td>...</td>\n",
       "      <td>...</td>\n",
       "      <td>...</td>\n",
       "      <td>...</td>\n",
       "    </tr>\n",
       "    <tr>\n",
       "      <th>2022-12-21</th>\n",
       "      <td>0.0</td>\n",
       "      <td>57.0</td>\n",
       "      <td>38.0</td>\n",
       "      <td>56.0</td>\n",
       "    </tr>\n",
       "    <tr>\n",
       "      <th>2022-12-22</th>\n",
       "      <td>0.0</td>\n",
       "      <td>56.0</td>\n",
       "      <td>42.0</td>\n",
       "      <td>57.0</td>\n",
       "    </tr>\n",
       "    <tr>\n",
       "      <th>2022-12-23</th>\n",
       "      <td>0.0</td>\n",
       "      <td>57.0</td>\n",
       "      <td>44.0</td>\n",
       "      <td>57.0</td>\n",
       "    </tr>\n",
       "    <tr>\n",
       "      <th>2022-12-24</th>\n",
       "      <td>0.0</td>\n",
       "      <td>57.0</td>\n",
       "      <td>42.0</td>\n",
       "      <td>61.0</td>\n",
       "    </tr>\n",
       "    <tr>\n",
       "      <th>2022-12-25</th>\n",
       "      <td>0.0</td>\n",
       "      <td>61.0</td>\n",
       "      <td>42.0</td>\n",
       "      <td>NaN</td>\n",
       "    </tr>\n",
       "  </tbody>\n",
       "</table>\n",
       "<p>17191 rows × 4 columns</p>\n",
       "</div>"
      ],
      "text/plain": [
       "            precipitation  max_temp  min_temp  actual\n",
       "DATE                                                 \n",
       "1960-01-01            0.0      49.0      30.0    49.0\n",
       "1960-01-02            0.0      49.0      29.0    54.0\n",
       "1960-01-03            0.0      54.0      35.0    54.0\n",
       "1960-01-04            0.0      54.0      36.0    55.0\n",
       "1960-01-05            0.0      55.0      33.0    53.0\n",
       "...                   ...       ...       ...     ...\n",
       "2022-12-21            0.0      57.0      38.0    56.0\n",
       "2022-12-22            0.0      56.0      42.0    57.0\n",
       "2022-12-23            0.0      57.0      44.0    57.0\n",
       "2022-12-24            0.0      57.0      42.0    61.0\n",
       "2022-12-25            0.0      61.0      42.0     NaN\n",
       "\n",
       "[17191 rows x 4 columns]"
      ]
     },
     "execution_count": 43,
     "metadata": {},
     "output_type": "execute_result"
    }
   ],
   "source": [
    "core_weather"
   ]
  },
  {
   "cell_type": "markdown",
   "id": "c3b22c8c",
   "metadata": {},
   "source": [
    "It can be seen that the last row is NaN and has no target. As a result, we will delete the last row."
   ]
  },
  {
   "cell_type": "code",
   "execution_count": 44,
   "id": "79e19588",
   "metadata": {},
   "outputs": [],
   "source": [
    "core_weather = core_weather.iloc[:-1, :].copy()"
   ]
  },
  {
   "cell_type": "code",
   "execution_count": 45,
   "id": "89aef9f1",
   "metadata": {},
   "outputs": [],
   "source": [
    "from sklearn.linear_model import Ridge\n",
    "\n",
    "rdg = Ridge(alpha = 0.1)"
   ]
  },
  {
   "cell_type": "code",
   "execution_count": 46,
   "id": "f8b91843",
   "metadata": {},
   "outputs": [],
   "source": [
    "trainset = core_weather.loc[:\"2020-12-31\"]\n",
    "testset = core_weather.loc[\"2021-01-01\":]"
   ]
  },
  {
   "cell_type": "code",
   "execution_count": 47,
   "id": "4dd9798d",
   "metadata": {},
   "outputs": [],
   "source": [
    "predictors = [\"precipitation\", \"max_temp\", \"min_temp\"]"
   ]
  },
  {
   "cell_type": "code",
   "execution_count": 48,
   "id": "b04679fe",
   "metadata": {},
   "outputs": [
    {
     "data": {
      "text/plain": [
       "Ridge(alpha=0.1)"
      ]
     },
     "execution_count": 48,
     "metadata": {},
     "output_type": "execute_result"
    }
   ],
   "source": [
    "# Fit the train x axis and y axis\n",
    "rdg.fit(trainset[predictors], trainset[\"actual\"])"
   ]
  },
  {
   "cell_type": "code",
   "execution_count": 49,
   "id": "b55a1332",
   "metadata": {},
   "outputs": [],
   "source": [
    "# Predict the test y asis from the x axis\n",
    "predictions = rdg.predict(testset[predictors])"
   ]
  },
  {
   "cell_type": "code",
   "execution_count": 50,
   "id": "c811fed9",
   "metadata": {},
   "outputs": [],
   "source": [
    "from sklearn.metrics import mean_absolute_error"
   ]
  },
  {
   "cell_type": "code",
   "execution_count": 51,
   "id": "966cf949",
   "metadata": {},
   "outputs": [
    {
     "data": {
      "text/plain": [
       "3.3825819379772972"
      ]
     },
     "execution_count": 51,
     "metadata": {},
     "output_type": "execute_result"
    }
   ],
   "source": [
    "mean_absolute_error(testset[\"actual\"], predictions)"
   ]
  },
  {
   "cell_type": "markdown",
   "id": "a43c6b13",
   "metadata": {},
   "source": [
    "Next, the accuracy of the model was evaluated to let us know how good the model is at making predictions, and to show how we canimprove the model. The MAE shows that for all the temperatures guessed by the model, it was about 3.4 degrees away off from what was actually recorded in real life. "
   ]
  },
  {
   "cell_type": "code",
   "execution_count": 52,
   "id": "1b8b9c35",
   "metadata": {},
   "outputs": [],
   "source": [
    "maxtemp_combo = pd.concat([testset[\"actual\"], pd.Series(predictions, index = testset.index)], axis = 1)\n",
    "maxtemp_combo.columns = [\"actual\", \"predictions\"]"
   ]
  },
  {
   "cell_type": "code",
   "execution_count": 53,
   "id": "a8defd55",
   "metadata": {},
   "outputs": [
    {
     "data": {
      "text/html": [
       "<div>\n",
       "<style scoped>\n",
       "    .dataframe tbody tr th:only-of-type {\n",
       "        vertical-align: middle;\n",
       "    }\n",
       "\n",
       "    .dataframe tbody tr th {\n",
       "        vertical-align: top;\n",
       "    }\n",
       "\n",
       "    .dataframe thead th {\n",
       "        text-align: right;\n",
       "    }\n",
       "</style>\n",
       "<table border=\"1\" class=\"dataframe\">\n",
       "  <thead>\n",
       "    <tr style=\"text-align: right;\">\n",
       "      <th></th>\n",
       "      <th>actual</th>\n",
       "      <th>predictions</th>\n",
       "    </tr>\n",
       "    <tr>\n",
       "      <th>DATE</th>\n",
       "      <th></th>\n",
       "      <th></th>\n",
       "    </tr>\n",
       "  </thead>\n",
       "  <tbody>\n",
       "    <tr>\n",
       "      <th>2021-01-01</th>\n",
       "      <td>57.0</td>\n",
       "      <td>59.810271</td>\n",
       "    </tr>\n",
       "    <tr>\n",
       "      <th>2021-01-02</th>\n",
       "      <td>56.0</td>\n",
       "      <td>59.309245</td>\n",
       "    </tr>\n",
       "    <tr>\n",
       "      <th>2021-01-03</th>\n",
       "      <td>62.0</td>\n",
       "      <td>58.538748</td>\n",
       "    </tr>\n",
       "    <tr>\n",
       "      <th>2021-01-04</th>\n",
       "      <td>59.0</td>\n",
       "      <td>61.533111</td>\n",
       "    </tr>\n",
       "    <tr>\n",
       "      <th>2021-01-05</th>\n",
       "      <td>59.0</td>\n",
       "      <td>59.447595</td>\n",
       "    </tr>\n",
       "    <tr>\n",
       "      <th>...</th>\n",
       "      <td>...</td>\n",
       "      <td>...</td>\n",
       "    </tr>\n",
       "    <tr>\n",
       "      <th>2022-12-20</th>\n",
       "      <td>57.0</td>\n",
       "      <td>55.842413</td>\n",
       "    </tr>\n",
       "    <tr>\n",
       "      <th>2022-12-21</th>\n",
       "      <td>56.0</td>\n",
       "      <td>57.288801</td>\n",
       "    </tr>\n",
       "    <tr>\n",
       "      <th>2022-12-22</th>\n",
       "      <td>57.0</td>\n",
       "      <td>57.284486</td>\n",
       "    </tr>\n",
       "    <tr>\n",
       "      <th>2022-12-23</th>\n",
       "      <td>57.0</td>\n",
       "      <td>58.363883</td>\n",
       "    </tr>\n",
       "    <tr>\n",
       "      <th>2022-12-24</th>\n",
       "      <td>61.0</td>\n",
       "      <td>58.005522</td>\n",
       "    </tr>\n",
       "  </tbody>\n",
       "</table>\n",
       "<p>723 rows × 2 columns</p>\n",
       "</div>"
      ],
      "text/plain": [
       "            actual  predictions\n",
       "DATE                           \n",
       "2021-01-01    57.0    59.810271\n",
       "2021-01-02    56.0    59.309245\n",
       "2021-01-03    62.0    58.538748\n",
       "2021-01-04    59.0    61.533111\n",
       "2021-01-05    59.0    59.447595\n",
       "...            ...          ...\n",
       "2022-12-20    57.0    55.842413\n",
       "2022-12-21    56.0    57.288801\n",
       "2022-12-22    57.0    57.284486\n",
       "2022-12-23    57.0    58.363883\n",
       "2022-12-24    61.0    58.005522\n",
       "\n",
       "[723 rows x 2 columns]"
      ]
     },
     "execution_count": 53,
     "metadata": {},
     "output_type": "execute_result"
    }
   ],
   "source": [
    "maxtemp_combo"
   ]
  },
  {
   "cell_type": "code",
   "execution_count": 54,
   "id": "7f5f9819",
   "metadata": {},
   "outputs": [
    {
     "data": {
      "text/plain": [
       "<AxesSubplot:xlabel='DATE'>"
      ]
     },
     "execution_count": 54,
     "metadata": {},
     "output_type": "execute_result"
    },
    {
     "data": {
      "image/png": "[encoded data removed]",
      "text/plain": [
       "<Figure size 432x288 with 1 Axes>"
      ]
     },
     "metadata": {
      "needs_background": "light"
     },
     "output_type": "display_data"
    }
   ],
   "source": [
    "maxtemp_combo.plot()"
   ]
  },
  {
   "cell_type": "code",
   "execution_count": 55,
   "id": "40f73600",
   "metadata": {},
   "outputs": [
    {
     "data": {
      "text/plain": [
       "array([-2.20643041,  0.7210365 ,  0.17918034])"
      ]
     },
     "execution_count": 55,
     "metadata": {},
     "output_type": "execute_result"
    }
   ],
   "source": [
    "rdg.coef_"
   ]
  },
  {
   "cell_type": "code",
   "execution_count": 56,
   "id": "5b9e3a0d",
   "metadata": {},
   "outputs": [],
   "source": [
    "# Write a function to reiterate splitting the data, training a model, and making predictions\n",
    "\n",
    "def create_predictions(predictors, core_weather, rdg):\n",
    "    trainset = core_weather.loc[:\"2020-12-31\"]\n",
    "    testset = core_weather.loc[\"2021-01-01\":]\n",
    "    \n",
    "    rdg.fit(trainset[predictors], trainset[\"actual\"])\n",
    "    \n",
    "    predictions = rdg.predict(testset[predictors])\n",
    "    error = mean_absolute_error(testset[\"actual\"], predictions)\n",
    "    \n",
    "    maxtemp_combo = pd.concat([testset[\"actual\"], pd.Series(predictions, index = testset.index)], axis = 1)\n",
    "    maxtemp_combo.columns = [\"actual\", \"predictions\"]\n",
    "    \n",
    "    return(error, maxtemp_combo)"
   ]
  },
  {
   "cell_type": "markdown",
   "id": "45e599d9",
   "metadata": {},
   "source": [
    "### Improving model's accuracy"
   ]
  },
  {
   "cell_type": "code",
   "execution_count": 57,
   "id": "73090e24",
   "metadata": {},
   "outputs": [],
   "source": [
    "# Add a column containing average temperature over the previous 30 days\n",
    "core_weather[\"month_max\"] = core_weather[\"max_temp\"].rolling(30).mean()"
   ]
  },
  {
   "cell_type": "code",
   "execution_count": 58,
   "id": "1d2e898c",
   "metadata": {},
   "outputs": [
    {
     "data": {
      "text/html": [
       "<div>\n",
       "<style scoped>\n",
       "    .dataframe tbody tr th:only-of-type {\n",
       "        vertical-align: middle;\n",
       "    }\n",
       "\n",
       "    .dataframe tbody tr th {\n",
       "        vertical-align: top;\n",
       "    }\n",
       "\n",
       "    .dataframe thead th {\n",
       "        text-align: right;\n",
       "    }\n",
       "</style>\n",
       "<table border=\"1\" class=\"dataframe\">\n",
       "  <thead>\n",
       "    <tr style=\"text-align: right;\">\n",
       "      <th></th>\n",
       "      <th>precipitation</th>\n",
       "      <th>max_temp</th>\n",
       "      <th>min_temp</th>\n",
       "      <th>actual</th>\n",
       "      <th>month_max</th>\n",
       "    </tr>\n",
       "    <tr>\n",
       "      <th>DATE</th>\n",
       "      <th></th>\n",
       "      <th></th>\n",
       "      <th></th>\n",
       "      <th></th>\n",
       "      <th></th>\n",
       "    </tr>\n",
       "  </thead>\n",
       "  <tbody>\n",
       "    <tr>\n",
       "      <th>1960-01-01</th>\n",
       "      <td>0.0</td>\n",
       "      <td>49.0</td>\n",
       "      <td>30.0</td>\n",
       "      <td>49.0</td>\n",
       "      <td>NaN</td>\n",
       "    </tr>\n",
       "    <tr>\n",
       "      <th>1960-01-02</th>\n",
       "      <td>0.0</td>\n",
       "      <td>49.0</td>\n",
       "      <td>29.0</td>\n",
       "      <td>54.0</td>\n",
       "      <td>NaN</td>\n",
       "    </tr>\n",
       "    <tr>\n",
       "      <th>1960-01-03</th>\n",
       "      <td>0.0</td>\n",
       "      <td>54.0</td>\n",
       "      <td>35.0</td>\n",
       "      <td>54.0</td>\n",
       "      <td>NaN</td>\n",
       "    </tr>\n",
       "    <tr>\n",
       "      <th>1960-01-04</th>\n",
       "      <td>0.0</td>\n",
       "      <td>54.0</td>\n",
       "      <td>36.0</td>\n",
       "      <td>55.0</td>\n",
       "      <td>NaN</td>\n",
       "    </tr>\n",
       "    <tr>\n",
       "      <th>1960-01-05</th>\n",
       "      <td>0.0</td>\n",
       "      <td>55.0</td>\n",
       "      <td>33.0</td>\n",
       "      <td>53.0</td>\n",
       "      <td>NaN</td>\n",
       "    </tr>\n",
       "    <tr>\n",
       "      <th>...</th>\n",
       "      <td>...</td>\n",
       "      <td>...</td>\n",
       "      <td>...</td>\n",
       "      <td>...</td>\n",
       "      <td>...</td>\n",
       "    </tr>\n",
       "    <tr>\n",
       "      <th>2022-12-20</th>\n",
       "      <td>0.0</td>\n",
       "      <td>54.0</td>\n",
       "      <td>42.0</td>\n",
       "      <td>57.0</td>\n",
       "      <td>57.133333</td>\n",
       "    </tr>\n",
       "    <tr>\n",
       "      <th>2022-12-21</th>\n",
       "      <td>0.0</td>\n",
       "      <td>57.0</td>\n",
       "      <td>38.0</td>\n",
       "      <td>56.0</td>\n",
       "      <td>57.033333</td>\n",
       "    </tr>\n",
       "    <tr>\n",
       "      <th>2022-12-22</th>\n",
       "      <td>0.0</td>\n",
       "      <td>56.0</td>\n",
       "      <td>42.0</td>\n",
       "      <td>57.0</td>\n",
       "      <td>56.833333</td>\n",
       "    </tr>\n",
       "    <tr>\n",
       "      <th>2022-12-23</th>\n",
       "      <td>0.0</td>\n",
       "      <td>57.0</td>\n",
       "      <td>44.0</td>\n",
       "      <td>57.0</td>\n",
       "      <td>56.500000</td>\n",
       "    </tr>\n",
       "    <tr>\n",
       "      <th>2022-12-24</th>\n",
       "      <td>0.0</td>\n",
       "      <td>57.0</td>\n",
       "      <td>42.0</td>\n",
       "      <td>61.0</td>\n",
       "      <td>56.200000</td>\n",
       "    </tr>\n",
       "  </tbody>\n",
       "</table>\n",
       "<p>17190 rows × 5 columns</p>\n",
       "</div>"
      ],
      "text/plain": [
       "            precipitation  max_temp  min_temp  actual  month_max\n",
       "DATE                                                            \n",
       "1960-01-01            0.0      49.0      30.0    49.0        NaN\n",
       "1960-01-02            0.0      49.0      29.0    54.0        NaN\n",
       "1960-01-03            0.0      54.0      35.0    54.0        NaN\n",
       "1960-01-04            0.0      54.0      36.0    55.0        NaN\n",
       "1960-01-05            0.0      55.0      33.0    53.0        NaN\n",
       "...                   ...       ...       ...     ...        ...\n",
       "2022-12-20            0.0      54.0      42.0    57.0  57.133333\n",
       "2022-12-21            0.0      57.0      38.0    56.0  57.033333\n",
       "2022-12-22            0.0      56.0      42.0    57.0  56.833333\n",
       "2022-12-23            0.0      57.0      44.0    57.0  56.500000\n",
       "2022-12-24            0.0      57.0      42.0    61.0  56.200000\n",
       "\n",
       "[17190 rows x 5 columns]"
      ]
     },
     "execution_count": 58,
     "metadata": {},
     "output_type": "execute_result"
    }
   ],
   "source": [
    "core_weather"
   ]
  },
  {
   "cell_type": "code",
   "execution_count": 59,
   "id": "7aa0f087",
   "metadata": {},
   "outputs": [],
   "source": [
    "# NaN's won't be accepted in the model so we need to remove it\n",
    "core_weather = core_weather.iloc[30:, :].copy()"
   ]
  },
  {
   "cell_type": "code",
   "execution_count": 60,
   "id": "051b18d5",
   "metadata": {},
   "outputs": [],
   "source": [
    "# Find ratio between the average monthly temperature. This gives the ratio btw monthly max and daily max temp \n",
    "core_weather[\"day_month_max_\"] = core_weather[\"month_max\"]/ core_weather[\"max_temp\"]\n",
    "\n",
    "# This gives the model more info on nuances in temperature"
   ]
  },
  {
   "cell_type": "code",
   "execution_count": 61,
   "id": "34630be5",
   "metadata": {},
   "outputs": [],
   "source": [
    "core_weather[\"max_min\"] = core_weather[\"max_temp\"]/ core_weather[\"min_temp\"]"
   ]
  },
  {
   "cell_type": "code",
   "execution_count": 62,
   "id": "b35fbe06",
   "metadata": {},
   "outputs": [],
   "source": [
    "predictors = [\"precipitation\", \"max_temp\", \"min_temp\",\"month_max\", \"day_month_max_\", \"max_min\"]"
   ]
  },
  {
   "cell_type": "code",
   "execution_count": 63,
   "id": "f9647f6d",
   "metadata": {},
   "outputs": [],
   "source": [
    "error, combined = create_predictions(predictors, core_weather, rdg)"
   ]
  },
  {
   "cell_type": "code",
   "execution_count": 64,
   "id": "0605e2f7",
   "metadata": {},
   "outputs": [
    {
     "data": {
      "text/plain": [
       "3.332014364479761"
      ]
     },
     "execution_count": 64,
     "metadata": {},
     "output_type": "execute_result"
    }
   ],
   "source": [
    "error"
   ]
  },
  {
   "cell_type": "markdown",
   "id": "691bbf1f",
   "metadata": {},
   "source": [
    "The error in the model reduced, albeit slightly"
   ]
  },
  {
   "cell_type": "code",
   "execution_count": 66,
   "id": "6267eaa9",
   "metadata": {},
   "outputs": [],
   "source": [
    "# add in average monthly temperature column\n",
    "core_weather[\"monthly_avg\"] = core_weather[\"max_temp\"].groupby(\n",
    "    core_weather.index.month).apply(lambda x: x.expanding(1).mean())"
   ]
  },
  {
   "cell_type": "code",
   "execution_count": 69,
   "id": "16c9a612",
   "metadata": {},
   "outputs": [
    {
     "data": {
      "text/html": [
       "<div>\n",
       "<style scoped>\n",
       "    .dataframe tbody tr th:only-of-type {\n",
       "        vertical-align: middle;\n",
       "    }\n",
       "\n",
       "    .dataframe tbody tr th {\n",
       "        vertical-align: top;\n",
       "    }\n",
       "\n",
       "    .dataframe thead th {\n",
       "        text-align: right;\n",
       "    }\n",
       "</style>\n",
       "<table border=\"1\" class=\"dataframe\">\n",
       "  <thead>\n",
       "    <tr style=\"text-align: right;\">\n",
       "      <th></th>\n",
       "      <th>precipitation</th>\n",
       "      <th>max_temp</th>\n",
       "      <th>min_temp</th>\n",
       "      <th>actual</th>\n",
       "      <th>month_max</th>\n",
       "      <th>day_month_max_</th>\n",
       "      <th>max_min</th>\n",
       "      <th>monthly_avg</th>\n",
       "      <th>day_of_yr_avg</th>\n",
       "    </tr>\n",
       "    <tr>\n",
       "      <th>DATE</th>\n",
       "      <th></th>\n",
       "      <th></th>\n",
       "      <th></th>\n",
       "      <th></th>\n",
       "      <th></th>\n",
       "      <th></th>\n",
       "      <th></th>\n",
       "      <th></th>\n",
       "      <th></th>\n",
       "    </tr>\n",
       "  </thead>\n",
       "  <tbody>\n",
       "    <tr>\n",
       "      <th>1960-01-31</th>\n",
       "      <td>0.00</td>\n",
       "      <td>59.0</td>\n",
       "      <td>46.0</td>\n",
       "      <td>62.0</td>\n",
       "      <td>55.566667</td>\n",
       "      <td>0.941808</td>\n",
       "      <td>1.282609</td>\n",
       "      <td>59.000000</td>\n",
       "      <td>59.000000</td>\n",
       "    </tr>\n",
       "    <tr>\n",
       "      <th>1960-02-01</th>\n",
       "      <td>0.81</td>\n",
       "      <td>62.0</td>\n",
       "      <td>51.0</td>\n",
       "      <td>59.0</td>\n",
       "      <td>56.000000</td>\n",
       "      <td>0.903226</td>\n",
       "      <td>1.215686</td>\n",
       "      <td>62.000000</td>\n",
       "      <td>62.000000</td>\n",
       "    </tr>\n",
       "    <tr>\n",
       "      <th>1960-02-02</th>\n",
       "      <td>0.00</td>\n",
       "      <td>59.0</td>\n",
       "      <td>43.0</td>\n",
       "      <td>59.0</td>\n",
       "      <td>56.166667</td>\n",
       "      <td>0.951977</td>\n",
       "      <td>1.372093</td>\n",
       "      <td>60.500000</td>\n",
       "      <td>59.000000</td>\n",
       "    </tr>\n",
       "    <tr>\n",
       "      <th>1960-02-03</th>\n",
       "      <td>0.20</td>\n",
       "      <td>59.0</td>\n",
       "      <td>47.0</td>\n",
       "      <td>60.0</td>\n",
       "      <td>56.333333</td>\n",
       "      <td>0.954802</td>\n",
       "      <td>1.255319</td>\n",
       "      <td>60.000000</td>\n",
       "      <td>59.000000</td>\n",
       "    </tr>\n",
       "    <tr>\n",
       "      <th>1960-02-04</th>\n",
       "      <td>0.16</td>\n",
       "      <td>60.0</td>\n",
       "      <td>42.0</td>\n",
       "      <td>60.0</td>\n",
       "      <td>56.500000</td>\n",
       "      <td>0.941667</td>\n",
       "      <td>1.428571</td>\n",
       "      <td>60.000000</td>\n",
       "      <td>60.000000</td>\n",
       "    </tr>\n",
       "    <tr>\n",
       "      <th>...</th>\n",
       "      <td>...</td>\n",
       "      <td>...</td>\n",
       "      <td>...</td>\n",
       "      <td>...</td>\n",
       "      <td>...</td>\n",
       "      <td>...</td>\n",
       "      <td>...</td>\n",
       "      <td>...</td>\n",
       "      <td>...</td>\n",
       "    </tr>\n",
       "    <tr>\n",
       "      <th>2022-12-20</th>\n",
       "      <td>0.00</td>\n",
       "      <td>54.0</td>\n",
       "      <td>42.0</td>\n",
       "      <td>57.0</td>\n",
       "      <td>57.133333</td>\n",
       "      <td>1.058025</td>\n",
       "      <td>1.285714</td>\n",
       "      <td>56.638313</td>\n",
       "      <td>55.680851</td>\n",
       "    </tr>\n",
       "    <tr>\n",
       "      <th>2022-12-21</th>\n",
       "      <td>0.00</td>\n",
       "      <td>57.0</td>\n",
       "      <td>38.0</td>\n",
       "      <td>56.0</td>\n",
       "      <td>57.033333</td>\n",
       "      <td>1.000585</td>\n",
       "      <td>1.500000</td>\n",
       "      <td>56.638563</td>\n",
       "      <td>56.489362</td>\n",
       "    </tr>\n",
       "    <tr>\n",
       "      <th>2022-12-22</th>\n",
       "      <td>0.00</td>\n",
       "      <td>56.0</td>\n",
       "      <td>42.0</td>\n",
       "      <td>57.0</td>\n",
       "      <td>56.833333</td>\n",
       "      <td>1.014881</td>\n",
       "      <td>1.333333</td>\n",
       "      <td>56.638122</td>\n",
       "      <td>56.234043</td>\n",
       "    </tr>\n",
       "    <tr>\n",
       "      <th>2022-12-23</th>\n",
       "      <td>0.00</td>\n",
       "      <td>57.0</td>\n",
       "      <td>44.0</td>\n",
       "      <td>57.0</td>\n",
       "      <td>56.500000</td>\n",
       "      <td>0.991228</td>\n",
       "      <td>1.295455</td>\n",
       "      <td>56.638371</td>\n",
       "      <td>56.404255</td>\n",
       "    </tr>\n",
       "    <tr>\n",
       "      <th>2022-12-24</th>\n",
       "      <td>0.00</td>\n",
       "      <td>57.0</td>\n",
       "      <td>42.0</td>\n",
       "      <td>61.0</td>\n",
       "      <td>56.200000</td>\n",
       "      <td>0.985965</td>\n",
       "      <td>1.357143</td>\n",
       "      <td>56.638621</td>\n",
       "      <td>56.617021</td>\n",
       "    </tr>\n",
       "  </tbody>\n",
       "</table>\n",
       "<p>17160 rows × 9 columns</p>\n",
       "</div>"
      ],
      "text/plain": [
       "            precipitation  max_temp  min_temp  actual  month_max  \\\n",
       "DATE                                                               \n",
       "1960-01-31           0.00      59.0      46.0    62.0  55.566667   \n",
       "1960-02-01           0.81      62.0      51.0    59.0  56.000000   \n",
       "1960-02-02           0.00      59.0      43.0    59.0  56.166667   \n",
       "1960-02-03           0.20      59.0      47.0    60.0  56.333333   \n",
       "1960-02-04           0.16      60.0      42.0    60.0  56.500000   \n",
       "...                   ...       ...       ...     ...        ...   \n",
       "2022-12-20           0.00      54.0      42.0    57.0  57.133333   \n",
       "2022-12-21           0.00      57.0      38.0    56.0  57.033333   \n",
       "2022-12-22           0.00      56.0      42.0    57.0  56.833333   \n",
       "2022-12-23           0.00      57.0      44.0    57.0  56.500000   \n",
       "2022-12-24           0.00      57.0      42.0    61.0  56.200000   \n",
       "\n",
       "            day_month_max_   max_min  monthly_avg  day_of_yr_avg  \n",
       "DATE                                                              \n",
       "1960-01-31        0.941808  1.282609    59.000000      59.000000  \n",
       "1960-02-01        0.903226  1.215686    62.000000      62.000000  \n",
       "1960-02-02        0.951977  1.372093    60.500000      59.000000  \n",
       "1960-02-03        0.954802  1.255319    60.000000      59.000000  \n",
       "1960-02-04        0.941667  1.428571    60.000000      60.000000  \n",
       "...                    ...       ...          ...            ...  \n",
       "2022-12-20        1.058025  1.285714    56.638313      55.680851  \n",
       "2022-12-21        1.000585  1.500000    56.638563      56.489362  \n",
       "2022-12-22        1.014881  1.333333    56.638122      56.234043  \n",
       "2022-12-23        0.991228  1.295455    56.638371      56.404255  \n",
       "2022-12-24        0.985965  1.357143    56.638621      56.617021  \n",
       "\n",
       "[17160 rows x 9 columns]"
      ]
     },
     "execution_count": 69,
     "metadata": {},
     "output_type": "execute_result"
    }
   ],
   "source": [
    "core_weather"
   ]
  },
  {
   "cell_type": "code",
   "execution_count": 68,
   "id": "d694ffed",
   "metadata": {},
   "outputs": [],
   "source": [
    "# add in average daily temperature column\n",
    "core_weather[\"day_of_yr_avg\"] = core_weather[\"max_temp\"].groupby(\n",
    "    core_weather.index.day_of_year).apply(lambda x: x.expanding(1).mean())"
   ]
  },
  {
   "cell_type": "code",
   "execution_count": 70,
   "id": "8766f06a",
   "metadata": {},
   "outputs": [],
   "source": [
    "predictors = [\"precipitation\", \"max_temp\", \"min_temp\",\"month_max\", \"day_month_max_\", \"max_min\", \"monthly_avg\",\n",
    "              \"day_of_yr_avg\"]"
   ]
  },
  {
   "cell_type": "code",
   "execution_count": 71,
   "id": "b27952c0",
   "metadata": {},
   "outputs": [],
   "source": [
    "# checking errors\n",
    "error, combined = create_predictions(predictors, core_weather, rdg)"
   ]
  },
  {
   "cell_type": "code",
   "execution_count": 72,
   "id": "13efa302",
   "metadata": {},
   "outputs": [
    {
     "data": {
      "text/plain": [
       "3.296389222954721"
      ]
     },
     "execution_count": 72,
     "metadata": {},
     "output_type": "execute_result"
    }
   ],
   "source": [
    "error"
   ]
  },
  {
   "cell_type": "markdown",
   "id": "6dddf784",
   "metadata": {},
   "source": [
    "### Analysis and further work"
   ]
  },
  {
   "cell_type": "markdown",
   "id": "801e04ce",
   "metadata": {},
   "source": [
    "The model had a slightly lower error with the new predictors. However, we could check the model coefficient to know which predictors contribute to the model's performance and which ones affect it negatively. We can see that both the precipitation and day_month_max variables have a negative effect on the model. Further analysis could be to run the model without these variables"
   ]
  },
  {
   "cell_type": "code",
   "execution_count": 73,
   "id": "9872849f",
   "metadata": {},
   "outputs": [
    {
     "data": {
      "text/plain": [
       "array([ -0.90199303,   0.39424498,   0.02996869,   0.34311088,\n",
       "       -16.45081581,   0.04842571,   0.14374817,   0.08128663])"
      ]
     },
     "execution_count": 73,
     "metadata": {},
     "output_type": "execute_result"
    }
   ],
   "source": [
    "rdg.coef_"
   ]
  },
  {
   "cell_type": "code",
   "execution_count": 76,
   "id": "a87b3ed9",
   "metadata": {},
   "outputs": [
    {
     "data": {
      "text/plain": [
       "precipitation    -0.205848\n",
       "max_temp          0.821326\n",
       "min_temp          0.594786\n",
       "actual            1.000000\n",
       "month_max         0.686249\n",
       "day_month_max_   -0.422787\n",
       "max_min           0.045145\n",
       "monthly_avg       0.690277\n",
       "day_of_yr_avg     0.712167\n",
       "Name: actual, dtype: float64"
      ]
     },
     "execution_count": 76,
     "metadata": {},
     "output_type": "execute_result"
    }
   ],
   "source": [
    "core_weather.corr()[\"actual\"]"
   ]
  },
  {
   "cell_type": "markdown",
   "id": "3382a14b",
   "metadata": {},
   "source": [
    "Also, upon looking at variable's correlation to the actual max temperature variable, we see that most variables have a positive correlation to the variable. We could explore removing the negatively correlated variables -which are basically the same negative varuables from the model's coefficients. In addition, other models could be built using a different machine learning algorithm"
   ]
  }
 ],
 "metadata": {
  "kernelspec": {
   "display_name": "Python 3",
   "language": "python",
   "name": "python3"
  },
  "language_info": {
   "codemirror_mode": {
    "name": "ipython",
    "version": 3
   },
   "file_extension": ".py",
   "mimetype": "text/x-python",
   "name": "python",
   "nbconvert_exporter": "python",
   "pygments_lexer": "ipython3",
   "version": "3.8.8"
  }
 },
 "nbformat": 4,
 "nbformat_minor": 5
}
